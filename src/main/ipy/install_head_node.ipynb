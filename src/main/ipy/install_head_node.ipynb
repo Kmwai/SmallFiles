{
 "metadata": {
  "name": ""
 },
 "nbformat": 3,
 "nbformat_minor": 0,
 "worksheets": [
  {
   "cells": [
    {
     "cell_type": "code",
     "collapsed": false,
     "input": [
      "This IPython Notebook is part of a collection of notebooks guiding you through the installation of dCache nodes for multiple puposes.\n",
      "This notebook will guide you through the installation of a dCache Head node with dCache version 2.6.x on Scientific Linux 6.\n",
      "\n",
      "We will go through the following steps:\n",
      "\n",
      "1. Install Postgresql 9.3\n",
      "1. Prepare Postgres for dCache \n",
      "1. Get dCache from the dCache website\n",
      "1. Install dCache\n",
      "1. Configure dCache"
     ],
     "language": "python",
     "metadata": {},
     "outputs": []
    },
    {
     "cell_type": "markdown",
     "metadata": {},
     "source": [
      "For several steps you will require root privileges. Therefore it is required that the notebook server is run as root. Please be extra careful!"
     ]
    },
    {
     "cell_type": "heading",
     "level": 2,
     "metadata": {},
     "source": [
      "Postgresql 9.3"
     ]
    },
    {
     "cell_type": "markdown",
     "metadata": {},
     "source": [
      "SL6 only comes with Postgres 8.4, but dCache strongly suggests to use 9.2 or higher. To to able to install a matching version we will download the repository from http://yum.postgresql.org/ "
     ]
    },
    {
     "cell_type": "code",
     "collapsed": false,
     "input": [
      "!wget http://yum.postgresql.org/9.3/redhat/rhel-6-x86_64/pgdg-sl93-9.3-1.noarch.rpm"
     ],
     "language": "python",
     "metadata": {},
     "outputs": []
    },
    {
     "cell_type": "markdown",
     "metadata": {},
     "source": [
      "and install it"
     ]
    },
    {
     "cell_type": "code",
     "collapsed": false,
     "input": [
      "!yum install pgdg-sl93-9.3-1.noarch.rpm"
     ],
     "language": "python",
     "metadata": {},
     "outputs": []
    },
    {
     "cell_type": "markdown",
     "metadata": {},
     "source": [
      "this makes available <tt>postgresql93-server</tt> containing the server and <tt>postgresql93</tt> containing the client programs.\n",
      "\n",
      "To install these run"
     ]
    },
    {
     "cell_type": "code",
     "collapsed": false,
     "input": [
      "!yum install postgresql93-server postgresql93"
     ],
     "language": "python",
     "metadata": {},
     "outputs": []
    },
    {
     "cell_type": "heading",
     "level": 3,
     "metadata": {},
     "source": [
      "Configuration"
     ]
    },
    {
     "cell_type": "markdown",
     "metadata": {},
     "source": [
      "Next we have to initialize the database. To do that run"
     ]
    },
    {
     "cell_type": "code",
     "collapsed": false,
     "input": [
      "!service postgresql-9.3 initdb"
     ],
     "language": "python",
     "metadata": {},
     "outputs": []
    },
    {
     "cell_type": "markdown",
     "metadata": {},
     "source": [
      "This creates the database in <tt>/var/lib/pgsql/9.3/data</tt>"
     ]
    },
    {
     "cell_type": "markdown",
     "metadata": {},
     "source": [
      " This directory contains a file called <tt>pg_hba.conf</tt> containing the security settings for the database."
     ]
    },
    {
     "cell_type": "code",
     "collapsed": false,
     "input": [
      "!cat /var/lib/pgsql/9.3/data/pg_hba.conf"
     ],
     "language": "python",
     "metadata": {},
     "outputs": []
    },
    {
     "cell_type": "markdown",
     "metadata": {},
     "source": [
      "For dCache we have to change the method in the three active lines to <tt>trust</tt>. Either do this manually or run"
     ]
    },
    {
     "cell_type": "code",
     "collapsed": false,
     "input": [
      "!sed -i 's/^local\\(.*\\)peer/local\\1trust/' /var/lib/pgsql/9.3/data/pg_hba.conf\n",
      "!sed -i 's/^host\\(.*\\)ident/local\\1trust/' /var/lib/pgsql/9.3/data/pg_hba.conf"
     ],
     "language": "python",
     "metadata": {},
     "outputs": []
    },
    {
     "cell_type": "markdown",
     "metadata": {},
     "source": [
      "If you are planning to access the database from other machines as well, add an entry for them in the <tt>pg_hba.conf</tt>"
     ]
    },
    {
     "cell_type": "code",
     "collapsed": false,
     "input": [
      "echo \"host    all             all             192.168.0.0/24        trust\" >> /var/lib/pgsql/9.3/pg_hba.conf"
     ],
     "language": "python",
     "metadata": {},
     "outputs": []
    },
    {
     "cell_type": "markdown",
     "metadata": {},
     "source": [
      "and also set the listen address for postgres in <tt>/var/lib/pgsql/9.3/postgres.conf</tt> to the appropriate IP or '*'"
     ]
    },
    {
     "cell_type": "markdown",
     "metadata": {},
     "source": [
      "To make the changes take effect restart postgresql:"
     ]
    },
    {
     "cell_type": "code",
     "collapsed": false,
     "input": [
      "!service postgresql-9.3 restart"
     ],
     "language": "python",
     "metadata": {},
     "outputs": []
    },
    {
     "cell_type": "heading",
     "level": 3,
     "metadata": {},
     "source": [
      "Setting up dCache databases"
     ]
    },
    {
     "cell_type": "heading",
     "level": 4,
     "metadata": {},
     "source": [
      "Chimera"
     ]
    },
    {
     "cell_type": "markdown",
     "metadata": {},
     "source": [
      "The dCache namespace resides in a database called <tt>chimera</tt>. To create this database run"
     ]
    },
    {
     "cell_type": "code",
     "collapsed": false,
     "input": [
      "!createdb -U postgres chimera"
     ],
     "language": "python",
     "metadata": {},
     "outputs": []
    },
    {
     "cell_type": "markdown",
     "metadata": {},
     "source": [
      "Next we will create a user also called <tt>chimera</tt>. The following command creates the user without a password, which is fine, but if you want to set a password use the line after the next one from the command line "
     ]
    },
    {
     "cell_type": "code",
     "collapsed": false,
     "input": [
      "!createuser -U postgres --no-superuser --no-createrole --createdb chimera"
     ],
     "language": "python",
     "metadata": {},
     "outputs": []
    },
    {
     "cell_type": "markdown",
     "metadata": {},
     "source": [
      "To create the <tt>chimera</tt> user with a password run the following line in a terminal:"
     ]
    },
    {
     "cell_type": "markdown",
     "metadata": {},
     "source": [
      "<tt>sudo createuser -U postgres --no-superuser --no-createrole --createdb --pwprompt chimera</tt>"
     ]
    },
    {
     "cell_type": "heading",
     "level": 4,
     "metadata": {},
     "source": [
      "srmdcache"
     ]
    },
    {
     "cell_type": "markdown",
     "metadata": {},
     "source": [
      "The dCache components will access the database server with the user <tt>srmdcache</tt>. The next line will create the user without a password"
     ]
    },
    {
     "cell_type": "code",
     "collapsed": false,
     "input": [
      "!createuser -U postgres --no-superuser --no-createrole --createdb srmdcache"
     ],
     "language": "python",
     "metadata": {},
     "outputs": []
    },
    {
     "cell_type": "markdown",
     "metadata": {},
     "source": [
      "again, if you want a password run the following line in a terminal instead of the previous one:"
     ]
    },
    {
     "cell_type": "markdown",
     "metadata": {},
     "source": [
      "<tt>sudo createuser -U postgres --no-superuser --no-createrole --createdb --pwprompt srmdcache</tt>"
     ]
    },
    {
     "cell_type": "heading",
     "level": 4,
     "metadata": {},
     "source": [
      "billing"
     ]
    },
    {
     "cell_type": "markdown",
     "metadata": {},
     "source": [
      "Now we will create the database <tt>dcache</tt> used to store state information of serveral dCache components:"
     ]
    },
    {
     "cell_type": "code",
     "collapsed": false,
     "input": [
      "!createdb -U srmdcache dcache"
     ],
     "language": "python",
     "metadata": {},
     "outputs": []
    },
    {
     "cell_type": "markdown",
     "metadata": {},
     "source": [
      "And then the billing database:"
     ]
    },
    {
     "cell_type": "code",
     "collapsed": false,
     "input": [
      "!createdb -O srmmdcache -U postgres billing"
     ],
     "language": "python",
     "metadata": {},
     "outputs": []
    },
    {
     "cell_type": "markdown",
     "metadata": {},
     "source": [
      "Now all needed databases exist and we will have dCache create the tables as soon as it is installed in the next section."
     ]
    },
    {
     "cell_type": "heading",
     "level": 2,
     "metadata": {},
     "source": [
      "Install dCache"
     ]
    },
    {
     "cell_type": "markdown",
     "metadata": {},
     "source": [
      "Download dCache from the dCache website http://www.dcache.org:"
     ]
    },
    {
     "cell_type": "code",
     "collapsed": false,
     "input": [
      "!wget http://www.dcache.org/downloads/1.9/repo/2.6/dcache-2.6.12-1.noarch.rpm -O dcache-2.6.12-1.noarch.rpm"
     ],
     "language": "python",
     "metadata": {},
     "outputs": []
    },
    {
     "cell_type": "markdown",
     "metadata": {},
     "source": [
      "Then install dCache using <tt>yum</tt>:"
     ]
    },
    {
     "cell_type": "code",
     "collapsed": false,
     "input": [
      "!yum --assumeyes install dcache-2.6.12-1.noarch.rpm"
     ],
     "language": "python",
     "metadata": {},
     "outputs": []
    },
    {
     "cell_type": "heading",
     "level": 3,
     "metadata": {},
     "source": [
      "Create the database tables"
     ]
    },
    {
     "cell_type": "markdown",
     "metadata": {},
     "source": [
      "The first thing we do, is to create the required tables in the previously created databases using"
     ]
    },
    {
     "cell_type": "code",
     "collapsed": false,
     "input": [
      "!dcache database update"
     ],
     "language": "python",
     "metadata": {},
     "outputs": []
    },
    {
     "cell_type": "heading",
     "level": 3,
     "metadata": {},
     "source": [
      "Creating the layout file"
     ]
    },
    {
     "cell_type": "markdown",
     "metadata": {},
     "source": [
      "currently the following layout files exist:"
     ]
    },
    {
     "cell_type": "code",
     "collapsed": false,
     "input": [
      "!ls -l /etc/dcache/layouts/*.conf"
     ],
     "language": "python",
     "metadata": {},
     "outputs": []
    },
    {
     "cell_type": "markdown",
     "metadata": {},
     "source": [
      "Now we will create a minimal file containing only the dCacheDomain"
     ]
    },
    {
     "cell_type": "code",
     "collapsed": false,
     "input": [
      "layout = \"\"\"\n",
      "pnfsmanager.db.connections.min-per-partition = 2\n",
      "pnfsmanager.db.connections.partition-count = 2\n",
      "pnfsmanager.db.connections.max-per-partition = 5\n",
      "\n",
      "nfs.domain=desy.afs\n",
      "nfs.idmap.legacy=true\n",
      "nfs.export.file=\\${dcache.paths.etc}/exports\n",
      "nfs.rpcsec_gss=true\n",
      "nfs.version=4.1,3\n",
      "nfs.version.portmap=false\n",
      "\n",
      "[dCacheDomain]\n",
      "[dCacheDomain/poolmanager]\n",
      "[dCacheDomain/broadcast]\n",
      "[dCacheDomain/loginbroker]\n",
      "[dCacheDomain/pnfsmanager]\n",
      "[dCacheDomain/cleaner] \n",
      "[dCacheDomain/topo]\n",
      "\"\"\""
     ],
     "language": "python",
     "metadata": {},
     "outputs": []
    },
    {
     "cell_type": "markdown",
     "metadata": {},
     "source": [
      "for authentication we need the gPlazma cell:"
     ]
    },
    {
     "cell_type": "code",
     "collapsed": false,
     "input": [
      "layout += \"\"\"\n",
      "[gplazmaDomain]\n",
      "[gplazmaDomain/gplazma]\n",
      "\"\"\""
     ],
     "language": "python",
     "metadata": {},
     "outputs": []
    },
    {
     "cell_type": "markdown",
     "metadata": {},
     "source": [
      "to be able to administrate the system we can add the ssh admin door using:"
     ]
    },
    {
     "cell_type": "code",
     "collapsed": false,
     "input": [
      "layout += \"\"\"\n",
      "[adminDoor]\n",
      "[adminDoor/admin]\n",
      "\"\"\""
     ],
     "language": "python",
     "metadata": {},
     "outputs": []
    },
    {
     "cell_type": "markdown",
     "metadata": {},
     "source": [
      "dcap door"
     ]
    },
    {
     "cell_type": "code",
     "collapsed": false,
     "input": [
      "layout += \"\"\"\n",
      "[dcapDoor]\n",
      "[dcapDoor/dcap]\n",
      "\"\"\""
     ],
     "language": "python",
     "metadata": {},
     "outputs": []
    },
    {
     "cell_type": "markdown",
     "metadata": {},
     "source": [
      "to be able to mount the namespace we can add the nfs door using:"
     ]
    },
    {
     "cell_type": "code",
     "collapsed": false,
     "input": [
      "layout += \"\"\"\n",
      "[nfsDoor]\n",
      "[nfsDoor/nfsv41]\n",
      "nfs.cell.name=nfsv41\n",
      "\"\"\""
     ],
     "language": "python",
     "metadata": {},
     "outputs": []
    },
    {
     "cell_type": "markdown",
     "metadata": {},
     "source": [
      "for webdav access add the following:"
     ]
    },
    {
     "cell_type": "code",
     "collapsed": false,
     "input": [
      "layout += \"\"\"\n",
      "[webdavDoor]\n",
      "[webdavDoor/webdav]\n",
      "webdav.net.port=8443\n",
      "webdav.authz.anonymous-operations=READONLY\n",
      "\"\"\""
     ],
     "language": "python",
     "metadata": {},
     "outputs": []
    },
    {
     "cell_type": "markdown",
     "metadata": {},
     "source": [
      "Run the following command to see how your file looks right now:"
     ]
    },
    {
     "cell_type": "code",
     "collapsed": false,
     "input": [
      "!echo -e \"{layout}\""
     ],
     "language": "python",
     "metadata": {},
     "outputs": []
    },
    {
     "cell_type": "markdown",
     "metadata": {},
     "source": [
      "When you are happy with the configuration write it to the layout file:"
     ]
    },
    {
     "cell_type": "code",
     "collapsed": false,
     "input": [
      "!echo -e \"{layout}\" > /etc/dcache/layouts/$(hostname -s).conf"
     ],
     "language": "python",
     "metadata": {},
     "outputs": []
    },
    {
     "cell_type": "markdown",
     "metadata": {},
     "source": [
      "set dCache to use the new layout file by replacing the <tt>dcache.layout</tt> property in <tt>dcache.conf</tt>:"
     ]
    },
    {
     "cell_type": "code",
     "collapsed": false,
     "input": [
      "!sed -i '/^dcache.layout/d' /etc/dcache/dcache.conf\n",
      "!echo \"dcache.layout=$(hostname -s)\" >> /etc/dcache/dcache.conf"
     ],
     "language": "python",
     "metadata": {},
     "outputs": []
    },
    {
     "cell_type": "markdown",
     "metadata": {},
     "source": [
      "If you activated NFS, you should configure your exports file. Just edit the following to your needs and run:"
     ]
    },
    {
     "cell_type": "code",
     "collapsed": false,
     "input": [
      "exports = \"\"\"\n",
      "/data *.desy.de(rw) ceph*.desy.de(rw,no_root_squash)\n",
      "\"\"\"\n",
      "\n",
      "!echo \"{exports}\" > /etc/dcache/exports"
     ],
     "language": "python",
     "metadata": {},
     "outputs": []
    },
    {
     "cell_type": "markdown",
     "metadata": {},
     "source": [
      "to be able to use jgss, we also need the gss.conf file"
     ]
    },
    {
     "cell_type": "code",
     "collapsed": false,
     "input": [
      "gssconf = \"\"\"\n",
      "com.sun.security.jgss.accept {\n",
      "    com.sun.security.auth.module.Krb5LoginModule required\n",
      "    doNotPrompt=true\n",
      "    useKeyTab=true\n",
      "    keyTab=\"/etc/dcache/krb5.nfs.keytab\"\n",
      "    debug=false\n",
      "    storeKey=true\n",
      "    principal=\"nfs/$(hostname -f)@DESY.DE\";\n",
      "};\n",
      "\n",
      "Krb5Gplazma {\n",
      "    com.sun.security.auth.module.Krb5LoginModule required debug=false useTicketCache=false;\n",
      "};\n",
      "\"\"\"\n",
      "\n",
      "!echo \"{gssconf}\" > /etc/dcache/jgss.conf"
     ],
     "language": "python",
     "metadata": {},
     "outputs": []
    },
    {
     "cell_type": "markdown",
     "metadata": {},
     "source": [
      "For gPlazma we need the file gplazma.conf. Run the following to create it."
     ]
    },
    {
     "cell_type": "code",
     "collapsed": false,
     "input": [
      "gplazma = \"\"\"\n",
      "auth optional jaas gplazma.jaas.name=Krb5Gplazma\n",
      "map optional krb5\n",
      "map requisite nis\n",
      "identity requisite nis\n",
      "session requisite nis\n",
      "\"\"\"\n",
      "\n",
      "!echo \"{gplazma}\" > /etc/dcache/gplazma.conf"
     ],
     "language": "python",
     "metadata": {},
     "outputs": []
    },
    {
     "cell_type": "markdown",
     "metadata": {},
     "source": [
      "and restart dCache for the changes to take effect:"
     ]
    },
    {
     "cell_type": "code",
     "collapsed": false,
     "input": [
      "!dcache restart"
     ],
     "language": "python",
     "metadata": {},
     "outputs": []
    },
    {
     "cell_type": "code",
     "collapsed": false,
     "input": [],
     "language": "python",
     "metadata": {},
     "outputs": []
    }
   ],
   "metadata": {}
  }
 ]
}