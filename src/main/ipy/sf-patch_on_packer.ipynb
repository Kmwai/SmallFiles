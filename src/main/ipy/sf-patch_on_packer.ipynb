{
 "metadata": {
  "name": ""
 },
 "nbformat": 3,
 "nbformat_minor": 0,
 "worksheets": [
  {
   "cells": [
    {
     "cell_type": "markdown",
     "metadata": {},
     "source": [
      "This Document leads you through the installation of the packing node for the dCache SmallFiles patch."
     ]
    },
    {
     "cell_type": "markdown",
     "metadata": {},
     "source": [
      "First we will get all the needed files from the public repository on github. Make sure you have installed <tt>git</tt>!"
     ]
    },
    {
     "cell_type": "code",
     "collapsed": true,
     "input": [
      "!git clone https://github.com/kschwank/SmallFiles.git"
     ],
     "language": "python",
     "metadata": {},
     "outputs": []
    },
    {
     "cell_type": "markdown",
     "metadata": {},
     "source": [
      "Then we check out the approprate branch:"
     ]
    },
    {
     "cell_type": "code",
     "collapsed": false,
     "input": [
      "!git checkout -b use-mongodb/2.6 origin/use-mongodb/2.6"
     ],
     "language": "python",
     "metadata": {},
     "outputs": []
    },
    {
     "cell_type": "markdown",
     "metadata": {},
     "source": [
      "Now we copy the scripts to their appropriate locations:"
     ]
    },
    {
     "cell_type": "code",
     "collapsed": true,
     "input": [
      "BINDIR=/usr/local/bin\n",
      "!cp SmallFiles/src/skel/usr/local/bin/pack-files.py ${BINDIR}\n",
      "!cp SmallFiles/src/skel/usr/local/bin/filemetadata.py ${BINDIR}\n",
      "!cp SmallFiles/src/skel/usr/local/bin/writebfids.py ${BINDIR}"
     ],
     "language": "python",
     "metadata": {},
     "outputs": []
    },
    {
     "cell_type": "markdown",
     "metadata": {},
     "source": [
      "Next we will create a mountpoint for the nfs export of the dCache server"
     ]
    },
    {
     "cell_type": "code",
     "collapsed": true,
     "input": [
      "!mkdir -p /pnfs/4"
     ],
     "language": "python",
     "metadata": {},
     "outputs": []
    },
    {
     "cell_type": "markdown",
     "metadata": {},
     "source": [
      "And then mount the nfs export to that location.\n",
      "Make sure you edit this to match your setup and make sure the server is running!"
     ]
    },
    {
     "cell_type": "code",
     "collapsed": true,
     "input": [
      "!mount -o intr,minorversion=1 ceph-mon1:/data /pnfs/4"
     ],
     "language": "python",
     "metadata": {},
     "outputs": []
    },
    {
     "cell_type": "markdown",
     "metadata": {},
     "source": [
      "Here you can check, if you see the files you expect in the nfs mount:"
     ]
    },
    {
     "cell_type": "code",
     "collapsed": false,
     "input": [
      "!ls -l /pnfs/4"
     ],
     "language": "python",
     "metadata": {},
     "outputs": []
    },
    {
     "cell_type": "markdown",
     "metadata": {},
     "source": [
      "Finally, we configure the packing scripts using the configuration file <tt>/etc/dcache/container.conf</tt>. \n",
      "\n",
      "The following will only work as root. Either make sure this script runs as root or do it manually using a console."
     ]
    },
    {
     "cell_type": "code",
     "collapsed": true,
     "input": [
      "!mkdir /etc/dcache\n",
      "!cp SmallFiles/src/skel/etc/dcache/container.conf /etc/dcache/container.conf\n",
      "!cat SmallFiles/src/skel/etc/dcache/container.conf"
     ],
     "language": "python",
     "metadata": {},
     "outputs": []
    },
    {
     "cell_type": "markdown",
     "metadata": {},
     "source": [
      "Now edit the file to your needs using the editor of your choice."
     ]
    },
    {
     "cell_type": "markdown",
     "metadata": {},
     "source": [
      "Finally start the scripts as root."
     ]
    },
    {
     "cell_type": "code",
     "collapsed": false,
     "input": [
      "!nohup /usr/local/fillmetadata.py > /tmp/fillmetadata.log &\n",
      "!nohup /usr/local/pack-files.py > /tmp/pack-files.log &\n",
      "!nohup /usr/local/writebfids.py > /tmp/writebfids.log &"
     ],
     "language": "python",
     "metadata": {},
     "outputs": []
    }
   ],
   "metadata": {}
  }
 ]
}