{
 "metadata": {
  "name": ""
 },
 "nbformat": 3,
 "nbformat_minor": 0,
 "worksheets": [
  {
   "cells": [
    {
     "cell_type": "code",
     "collapsed": false,
     "input": [
      "This IPython Notebook is part of a collection of notebooks guiding you through the installation of dCache nodes for multiple puposes.\n",
      "This notebook will guide you through the installation of a dCache Pool node with dCache version 2.6.x on Scientific Linux 6.\n",
      "\n",
      "We will go through the following steps:\n",
      "\n",
      "1. Get dCache from the dCache website\n",
      "1. Install dCache\n",
      "1. Configure dCache"
     ],
     "language": "python",
     "metadata": {},
     "outputs": []
    },
    {
     "cell_type": "markdown",
     "metadata": {},
     "source": [
      "For several steps you will require root privileges. Therefore it is required that the notebook server is run as root. Please be extra careful!"
     ]
    },
    {
     "cell_type": "heading",
     "level": 2,
     "metadata": {},
     "source": [
      "Install dCache"
     ]
    },
    {
     "cell_type": "markdown",
     "metadata": {},
     "source": [
      "Download dCache from the dCache website http://www.dcache.org:"
     ]
    },
    {
     "cell_type": "code",
     "collapsed": false,
     "input": [
      "!wget http://www.dcache.org/downloads/1.9/repo/2.6/dcache-2.6.12-1.noarch.rpm -O dcache-2.6.12-1.noarch.rpm!wget http://www.dcache.org/downloads/1.9/repo/2.6/dcache-2.6.12-1.noarch.rpm -O dcache-2.6.12-1.noarch.rpm"
     ],
     "language": "python",
     "metadata": {},
     "outputs": [
      {
       "output_type": "stream",
       "stream": "stdout",
       "text": [
        "--2013-11-08 09:46:00--  http://www.dcache.org/downloads/1.9/repo/2.6/dcache-2.6.12-1.noarch.rpm\r\n",
        "Resolving www.dcache.org... 131.169.4.221\r\n",
        "Connecting to www.dcache.org|131.169.4.221|:80... connected.\r\n",
        "HTTP request sent, awaiting response... 302 Found\r\n",
        "Location: http://dcache-desy21.desy.de:23898/pnfs/desy.de/desy/dcache.org/2.6/dcache-2.6.12-1.noarch.rpm?dcache-http-uuid=e8cc0b4a-9260-43b2-bd05-fbbab7609a2e [following]\r\n",
        "--2013-11-08 09:46:00--  http://dcache-desy21.desy.de:23898/pnfs/desy.de/desy/dcache.org/2.6/dcache-2.6.12-1.noarch.rpm?dcache-http-uuid=e8cc0b4a-9260-43b2-bd05-fbbab7609a2e\r\n",
        "Resolving dcache-desy21.desy.de... "
       ]
      },
      {
       "output_type": "stream",
       "stream": "stdout",
       "text": [
        "131.169.191.202\r\n",
        "Connecting to dcache-desy21.desy.de|131.169.191.202|:23898... connected.\r\n",
        "HTTP request sent, awaiting response... 200 OK\r\n",
        "Length: 76223586 (73M)\r\n",
        "Saving to: \u201cdcache-2.6.12-1.noarch.rpm\u201d\r\n",
        "\r\n",
        "\r",
        " 0% [                                       ] 0           --.-K/s              "
       ]
      },
      {
       "output_type": "stream",
       "stream": "stdout",
       "text": [
        "\r",
        "30% [===========>                           ] 23,513,952   112M/s              "
       ]
      },
      {
       "output_type": "stream",
       "stream": "stdout",
       "text": [
        "\r",
        "61% [=======================>               ] 47,055,080   112M/s              "
       ]
      },
      {
       "output_type": "stream",
       "stream": "stdout",
       "text": [
        "\r",
        "92% [===================================>   ] 70,604,584   112M/s              "
       ]
      },
      {
       "output_type": "stream",
       "stream": "stdout",
       "text": [
        "\r",
        "100%[======================================>] 76,223,586   112M/s   in 0.6s    \r\n",
        "\r\n",
        "2013-11-08 09:46:01 (112 MB/s) - \u201cdcache-2.6.12-1.noarch.rpm\u201d saved [76223586/76223586]\r\n",
        "\r\n"
       ]
      }
     ],
     "prompt_number": 2
    },
    {
     "cell_type": "markdown",
     "metadata": {},
     "source": [
      "Then install dCache using yum"
     ]
    },
    {
     "cell_type": "code",
     "collapsed": false,
     "input": [
      "!yum --assumeyes install dcache-2.6.12-1.noarch.rpm"
     ],
     "language": "python",
     "metadata": {},
     "outputs": []
    },
    {
     "cell_type": "heading",
     "level": 3,
     "metadata": {},
     "source": [
      "Creating the layout file"
     ]
    },
    {
     "cell_type": "markdown",
     "metadata": {},
     "source": [
      "currently the following layout files exist:"
     ]
    },
    {
     "cell_type": "code",
     "collapsed": false,
     "input": [
      "!ls -l /etc/dcache/layouts"
     ],
     "language": "python",
     "metadata": {},
     "outputs": [
      {
       "output_type": "stream",
       "stream": "stdout",
       "text": [
        "total 16\r\n",
        "-rw-r--r-- 1 root root  174 Nov  7 17:19 ceph-osd1.conf\r\n",
        "-rw-r--r-- 1 root root 1341 Nov  6 19:41 head.conf\r\n",
        "-rw-r--r-- 1 root root  150 Nov  6 19:41 pool.conf\r\n",
        "-rw-r--r-- 1 root root  113 Nov  7 10:25 single.conf\r\n"
       ]
      }
     ],
     "prompt_number": 3
    },
    {
     "cell_type": "markdown",
     "metadata": {},
     "source": [
      "Now we will create a minimal file containing only the PoolDomain"
     ]
    },
    {
     "cell_type": "code",
     "collapsed": false,
     "input": [
      "memory.heap=4096mlayout = \"\"\"\n",
      "broker.host=ceph-mon1.desy.de\n",
      "dcache.java.memory.heap=4096m\n",
      "\n",
      "[PoolDomain-${host.name}]\n",
      "[PoolDomain-${host.name}/pool]\n",
      "\"\"\"\n",
      "\n",
      "!echo \"{layout}\" > /etc/dcache/layouts/$(hostname -s).conf"
     ],
     "language": "python",
     "metadata": {},
     "outputs": []
    },
    {
     "cell_type": "markdown",
     "metadata": {},
     "source": [
      "and use dCache command line to create the pool (you may want to edit this):"
     ]
    },
    {
     "cell_type": "code",
     "collapsed": false,
     "input": [
      "1!dcache pool create --size 1500000000000 /dcache/pools osd1 PoolDomain"
     ],
     "language": "python",
     "metadata": {},
     "outputs": []
    },
    {
     "cell_type": "markdown",
     "metadata": {},
     "source": [
      "Your layout file now looks like this:"
     ]
    },
    {
     "cell_type": "code",
     "collapsed": false,
     "input": [
      "!cat /etc/dcache/layouts/$(hostname -s).conf"
     ],
     "language": "python",
     "metadata": {},
     "outputs": [
      {
       "output_type": "stream",
       "stream": "stdout",
       "text": [
        "broker.host=ceph-mon1.desy.de\r\n",
        "dcache.java.memory.heap=4096m\r\n",
        "\r\n",
        "[PoolDomain]\r\n",
        "[PoolDomain/pool]\r\n",
        "name=osd1\r\n",
        "path=/dcache/pools\r\n",
        "maxDiskSpace=1500000000000\r\n",
        "waitForFiles=${path}/data\r\n"
       ]
      }
     ],
     "prompt_number": 7
    },
    {
     "cell_type": "markdown",
     "metadata": {},
     "source": [
      "now, set dCache to use the new layout file by replacing the <tt>dcache.layout</tt> property in <tt>dcache.conf</tt>:"
     ]
    },
    {
     "cell_type": "code",
     "collapsed": false,
     "input": [
      "!sed -i '/^dcache.layout/d' /etc/dcache/dcache.conf\n",
      "!echo \"dcache.layout=$(hostname -s)\" >> /etc/dcache/dcache.conf"
     ],
     "language": "python",
     "metadata": {},
     "outputs": [],
     "prompt_number": 6
    },
    {
     "cell_type": "markdown",
     "metadata": {},
     "source": [
      "Your <tt>dcache.conf</tt> file now looks like this:"
     ]
    },
    {
     "cell_type": "code",
     "collapsed": false,
     "input": [
      "!cat /etc/dcache/dcache.conf"
     ],
     "language": "python",
     "metadata": {},
     "outputs": [
      {
       "output_type": "stream",
       "stream": "stdout",
       "text": [
        "# This is the main configuration file of dCache.\r\n",
        "#\r\n",
        "# This file used to be called config/dCacheSetup, but is now stored in\r\n",
        "# etc/dcache.conf. Documentation may still refer to it as\r\n",
        "# config/dCacheSetup. Most of the parameters are the same and the\r\n",
        "# documentation also applies to this file.\r\n",
        "#\r\n",
        "# By default the file is empty. Default values are picked up from the\r\n",
        "# properties files in share/defaults/. Do not modify the defaults\r\n",
        "# files: any changes will be lost when upgrading. Instead override the\r\n",
        "# defaults by redefining the parameters in this file.\r\n",
        "dcache.layout=ceph-osd1\r\n"
       ]
      }
     ],
     "prompt_number": 8
    },
    {
     "cell_type": "code",
     "collapsed": false,
     "input": [],
     "language": "python",
     "metadata": {},
     "outputs": []
    }
   ],
   "metadata": {}
  }
 ]
}