{
 "metadata": {
  "name": ""
 },
 "nbformat": 3,
 "nbformat_minor": 0,
 "worksheets": [
  {
   "cells": [
    {
     "cell_type": "markdown",
     "metadata": {},
     "source": [
      "This IPython Notebook is part of a collection of notebooks guiding you through the installation of dCache nodes for multiple puposes.\n",
      "This notebook will guide you through the installation of a dCache Pool node with dCache version 2.6.x on Scientific Linux 6.\n",
      "\n",
      "We will go through the following steps:\n",
      "\n",
      "1. Get dCache from the dCache website\n",
      "1. Install dCache\n",
      "1. Configure dCache"
     ]
    },
    {
     "cell_type": "markdown",
     "metadata": {},
     "source": [
      "For several steps you will require root privileges. Therefore it is required that the notebook server is run as root. Please be extra careful!"
     ]
    },
    {
     "cell_type": "heading",
     "level": 2,
     "metadata": {},
     "source": [
      "Install dCache"
     ]
    },
    {
     "cell_type": "markdown",
     "metadata": {},
     "source": [
      "Download dCache from the dCache website http://www.dcache.org:"
     ]
    },
    {
     "cell_type": "code",
     "collapsed": false,
     "input": [
      "!wget http://www.dcache.org/downloads/1.9/repo/2.6/dcache-2.6.12-1.noarch.rpm -O dcache-2.6.12-1.noarch.rpm!wget http://www.dcache.org/downloads/1.9/repo/2.6/dcache-2.6.12-1.noarch.rpm -O dcache-2.6.12-1.noarch.rpm"
     ],
     "language": "python",
     "metadata": {},
     "outputs": []
    },
    {
     "cell_type": "markdown",
     "metadata": {},
     "source": [
      "Then install dCache using yum"
     ]
    },
    {
     "cell_type": "code",
     "collapsed": false,
     "input": [
      "!yum --assumeyes install dcache-2.6.12-1.noarch.rpm"
     ],
     "language": "python",
     "metadata": {},
     "outputs": []
    },
    {
     "cell_type": "heading",
     "level": 3,
     "metadata": {},
     "source": [
      "Creating the layout file"
     ]
    },
    {
     "cell_type": "markdown",
     "metadata": {},
     "source": [
      "currently the following layout files exist:"
     ]
    },
    {
     "cell_type": "code",
     "collapsed": false,
     "input": [
      "!ls -l /etc/dcache/layouts"
     ],
     "language": "python",
     "metadata": {},
     "outputs": []
    },
    {
     "cell_type": "markdown",
     "metadata": {},
     "source": [
      "Now we will create a minimal file containing only the PoolDomain"
     ]
    },
    {
     "cell_type": "code",
     "collapsed": false,
     "input": [
      "memory.heap=4096mlayout = \"\"\"\n",
      "broker.host=ceph-mon1.desy.de\n",
      "dcache.java.memory.heap=4096m\n",
      "\n",
      "[PoolDomain-\\${host.name}]\n",
      "[PoolDomain-\\${host.name}/pool]\n",
      "\"\"\"\n",
      "\n",
      "!echo \"{layout}\" > /etc/dcache/layouts/$(hostname -s).conf"
     ],
     "language": "python",
     "metadata": {},
     "outputs": []
    },
    {
     "cell_type": "markdown",
     "metadata": {},
     "source": [
      "now, set dCache to use the new layout file by replacing the <tt>dcache.layout</tt> property in <tt>dcache.conf</tt>:"
     ]
    },
    {
     "cell_type": "code",
     "collapsed": false,
     "input": [
      "!sed -i '/^dcache.layout/d' /etc/dcache/dcache.conf\n",
      "!echo \"dcache.layout=$(hostname -s)\" >> /etc/dcache/dcache.conf"
     ],
     "language": "python",
     "metadata": {},
     "outputs": []
    },
    {
     "cell_type": "markdown",
     "metadata": {},
     "source": [
      "and use dCache command line to create the pool (you may want to edit this):"
     ]
    },
    {
     "cell_type": "code",
     "collapsed": false,
     "input": [
      "!dcache pool create --size 1500000000000 /dcache/pools osd1 PoolDomain-$(hostname -s)"
     ],
     "language": "python",
     "metadata": {},
     "outputs": []
    },
    {
     "cell_type": "markdown",
     "metadata": {},
     "source": [
      "Your layout file now looks like this:"
     ]
    },
    {
     "cell_type": "code",
     "collapsed": false,
     "input": [
      "!cat /etc/dcache/layouts/$(hostname -s).conf"
     ],
     "language": "python",
     "metadata": {},
     "outputs": []
    },
    {
     "cell_type": "markdown",
     "metadata": {},
     "source": [
      "Your <tt>dcache.conf</tt> file now looks like this:"
     ]
    },
    {
     "cell_type": "code",
     "collapsed": false,
     "input": [
      "!cat /etc/dcache/dcache.conf"
     ],
     "language": "python",
     "metadata": {},
     "outputs": []
    },
    {
     "cell_type": "markdown",
     "metadata": {},
     "source": [
      "When you are finished with the configuration, restart dcache:"
     ]
    },
    {
     "cell_type": "code",
     "collapsed": false,
     "input": [
      "!dcache restart"
     ],
     "language": "python",
     "metadata": {},
     "outputs": []
    }
   ],
   "metadata": {}
  }
 ]
}