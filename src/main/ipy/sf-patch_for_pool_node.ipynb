{
 "metadata": {
  "name": ""
 },
 "nbformat": 3,
 "nbformat_minor": 0,
 "worksheets": [
  {
   "cells": [
    {
     "cell_type": "heading",
     "level": 4,
     "metadata": {},
     "source": [
      "This Document leads you through the installation of the SmallFiles capabilities add-on for a dCache Pool that stores small files."
     ]
    },
    {
     "cell_type": "markdown",
     "metadata": {},
     "source": [
      "First we will get all the needed files from the public repository on github. Make sure you have installed <tt>git</tt>!"
     ]
    },
    {
     "cell_type": "code",
     "collapsed": false,
     "input": [
      "!git clone https://github.com/kschwank/SmallFiles.git\n",
      "!cd SmallFiles; git submodule init"
     ],
     "language": "python",
     "metadata": {},
     "outputs": [
      {
       "output_type": "stream",
       "stream": "stdout",
       "text": [
        "Cloning into 'SmallFiles'...\r\n"
       ]
      },
      {
       "output_type": "stream",
       "stream": "stdout",
       "text": [
        "remote: Counting objects: 901, done.\u001b[K\r\n",
        "remote: Compressing objects:   0% (1/467)   \u001b[K\r",
        "remote: Compressing objects:   1% (5/467)   \u001b[K\r",
        "remote: Compressing objects:   2% (10/467)   \u001b[K\r",
        "remote: Compressing objects:   3% (15/467)   \u001b[K\r",
        "remote: Compressing objects:   4% (19/467)   \u001b[K\r",
        "remote: Compressing objects:   5% (24/467)   \u001b[K\r",
        "remote: Compressing objects:   6% (29/467)   \u001b[K\r",
        "remote: Compressing objects:   7% (33/467)   \u001b[K\r",
        "remote: Compressing objects:   8% (38/467)   \u001b[K\r",
        "remote: Compressing objects:   9% (43/467)   \u001b[K\r",
        "remote: Compressing objects:  10% (47/467)   \u001b[K\r",
        "remote: Compressing objects:  11% (52/467)   \u001b[K\r",
        "remote: Compressing objects:  12% (57/467)   \u001b[K\r",
        "remote: Compressing objects:  13% (61/467)   \u001b[K\r",
        "remote: Compressing objects:  14% (66/467)   \u001b[K\r"
       ]
      },
      {
       "output_type": "stream",
       "stream": "stdout",
       "text": [
        "remote: Compressing objects:  15% (71/467)   \u001b[K\r",
        "remote: Compressing objects:  16% (75/467)   \u001b[K\r",
        "remote: Compressing objects:  17% (80/467)   \u001b[K\r",
        "remote: Compressing objects:  18% (85/467)   \u001b[K\r",
        "remote: Compressing objects:  19% (89/467)   \u001b[K\r",
        "remote: Compressing objects:  20% (94/467)   \u001b[K\r",
        "remote: Compressing objects:  21% (99/467)   \u001b[K\r"
       ]
      },
      {
       "output_type": "stream",
       "stream": "stdout",
       "text": [
        "remote: Compressing objects:  22% (103/467)   \u001b[K\r",
        "remote: Compressing objects:  23% (108/467)   \u001b[K\r",
        "remote: Compressing objects:  24% (113/467)   \u001b[K\r",
        "remote: Compressing objects:  25% (117/467)   \u001b[K\r",
        "remote: Compressing objects:  26% (122/467)   \u001b[K\r",
        "remote: Compressing objects:  27% (127/467)   \u001b[K\r",
        "remote: Compressing objects:  28% (131/467)   \u001b[K\r",
        "remote: Compressing objects:  29% (136/467)   \u001b[K\r",
        "remote: Compressing objects:  30% (141/467)   \u001b[K\r",
        "remote: Compressing objects:  31% (145/467)   \u001b[K\r",
        "remote: Compressing objects:  32% (150/467)   \u001b[K\r",
        "remote: Compressing objects:  33% (155/467)   \u001b[K\r",
        "remote: Compressing objects:  34% (159/467)   \u001b[K\r",
        "remote: Compressing objects:  35% (164/467)   \u001b[K\r",
        "remote: Compressing objects:  36% (169/467)   \u001b[K\r",
        "remote: Compressing objects:  37% (173/467)   \u001b[K\r",
        "remote: Compressing objects:  38% (178/467)   \u001b[K\r",
        "remote: Compressing objects:  39% (183/467)   \u001b[K\r",
        "remote: Compressing objects:  40% (187/467)   \u001b[K\r",
        "remote: Compressing objects:  41% (192/467)   \u001b[K\r",
        "remote: Compressing objects:  42% (197/467)   \u001b[K\r",
        "remote: Compressing objects:  43% (201/467)   \u001b[K\r",
        "remote: Compressing objects:  44% (206/467)   \u001b[K\r",
        "remote: Compressing objects:  45% (211/467)   \u001b[K\r",
        "remote: Compressing objects:  46% (215/467)   \u001b[K\r",
        "remote: Compressing objects:  47% (220/467)   \u001b[K\r",
        "remote: Compressing objects:  48% (225/467)   \u001b[K\r",
        "remote: Compressing objects:  49% (229/467)   \u001b[K\r",
        "remote: Compressing objects:  50% (234/467)   \u001b[K\r",
        "remote: Compressing objects:  51% (239/467)   \u001b[K\r",
        "remote: Compressing objects:  52% (243/467)   \u001b[K\r",
        "remote: Compressing objects:  53% (248/467)   \u001b[K\r",
        "remote: Compressing objects:  54% (253/467)   \u001b[K\r",
        "remote: Compressing objects:  55% (257/467)   \u001b[K\r",
        "remote: Compressing objects:  56% (262/467)   \u001b[K\r",
        "remote: Compressing objects:  57% (267/467)   \u001b[K\r",
        "remote: Compressing objects:  58% (271/467)   \u001b[K\r",
        "remote: Compressing objects:  59% (276/467)   \u001b[K\r",
        "remote: Compressing objects:  60% (281/467)   \u001b[K\r",
        "remote: Compressing objects:  61% (285/467)   \u001b[K\r",
        "remote: Compressing objects:  62% (290/467)   \u001b[K\r",
        "remote: Compressing objects:  63% (295/467)   \u001b[K\r",
        "remote: Compressing objects:  64% (299/467)   \u001b[K\r",
        "remote: Compressing objects:  65% (304/467)   \u001b[K\r",
        "remote: Compressing objects:  66% (309/467)   \u001b[K\r",
        "remote: Compressing objects:  67% (313/467)   \u001b[K\r",
        "remote: Compressing objects:  68% (318/467)   \u001b[K\r"
       ]
      },
      {
       "output_type": "stream",
       "stream": "stdout",
       "text": [
        "remote: Compressing objects:  69% (323/467)   \u001b[K\r",
        "remote: Compressing objects:  70% (327/467)   \u001b[K\r",
        "remote: Compressing objects:  71% (332/467)   \u001b[K\r",
        "remote: Compressing objects:  72% (337/467)   \u001b[K\r",
        "remote: Compressing objects:  73% (341/467)   \u001b[K\r",
        "remote: Compressing objects:  74% (346/467)   \u001b[K\r",
        "remote: Compressing objects:  75% (351/467)   \u001b[K\r",
        "remote: Compressing objects:  76% (355/467)   \u001b[K\r",
        "remote: Compressing objects:  77% (360/467)   \u001b[K\r",
        "remote: Compressing objects:  78% (365/467)   \u001b[K\r",
        "remote: Compressing objects:  79% (369/467)   \u001b[K\r",
        "remote: Compressing objects:  80% (374/467)   \u001b[K\r",
        "remote: Compressing objects:  81% (379/467)   \u001b[K\r",
        "remote: Compressing objects:  82% (383/467)   \u001b[K\r",
        "remote: Compressing objects:  83% (388/467)   \u001b[K\r",
        "remote: Compressing objects:  84% (393/467)   \u001b[K\r",
        "remote: Compressing objects:  85% (397/467)   \u001b[K\r",
        "remote: Compressing objects:  86% (402/467)   \u001b[K\r",
        "remote: Compressing objects:  87% (407/467)   \u001b[K\r",
        "remote: Compressing objects:  88% (411/467)   \u001b[K\r",
        "remote: Compressing objects:  89% (416/467)   \u001b[K\r",
        "remote: Compressing objects:  90% (421/467)   \u001b[K\r",
        "remote: Compressing objects:  91% (425/467)   \u001b[K\r",
        "remote: Compressing objects:  92% (430/467)   \u001b[K\r",
        "remote: Compressing objects:  93% (435/467)   \u001b[K\r",
        "remote: Compressing objects:  94% (439/467)   \u001b[K\r",
        "remote: Compressing objects:  95% (444/467)   \u001b[K\r",
        "remote: Compressing objects:  96% (449/467)   \u001b[K\r",
        "remote: Compressing objects:  97% (453/467)   \u001b[K\r",
        "remote: Compressing objects:  98% (458/467)   \u001b[K\r",
        "remote: Compressing objects:  99% (463/467)   \u001b[K\r",
        "remote: Compressing objects: 100% (467/467)   \u001b[K\r",
        "remote: Compressing objects: 100% (467/467), done.\u001b[K\r\n",
        "Receiving objects:   0% (1/901)   \r",
        "Receiving objects:   1% (10/901)   \r",
        "Receiving objects:   2% (19/901)   \r",
        "Receiving objects:   3% (28/901)   \r",
        "Receiving objects:   4% (37/901)   \r"
       ]
      },
      {
       "output_type": "stream",
       "stream": "stdout",
       "text": [
        "Receiving objects:   5% (46/901)   \r",
        "Receiving objects:   6% (55/901)   \r",
        "Receiving objects:   7% (64/901)   \r",
        "Receiving objects:   8% (73/901)   \r",
        "Receiving objects:   9% (82/901)   \r",
        "Receiving objects:  10% (91/901)   \r",
        "Receiving objects:  11% (100/901)   \r",
        "Receiving objects:  12% (109/901)   \r",
        "Receiving objects:  13% (118/901)   \r"
       ]
      },
      {
       "output_type": "stream",
       "stream": "stdout",
       "text": [
        "Receiving objects:  14% (127/901)   \r",
        "Receiving objects:  15% (136/901)   \r",
        "Receiving objects:  16% (145/901)   \r",
        "Receiving objects:  17% (154/901)   \r",
        "Receiving objects:  18% (163/901)   \r",
        "Receiving objects:  19% (172/901)   \r",
        "Receiving objects:  20% (181/901)   \r"
       ]
      },
      {
       "output_type": "stream",
       "stream": "stdout",
       "text": [
        "Receiving objects:  20% (189/901), 532.00 KiB | 451.00 KiB/s   \r"
       ]
      },
      {
       "output_type": "stream",
       "stream": "stdout",
       "text": [
        "Receiving objects:  20% (189/901), 2.22 MiB | 970.00 KiB/s   \r"
       ]
      },
      {
       "output_type": "stream",
       "stream": "stdout",
       "text": [
        "Receiving objects:  20% (189/901), 6.56 MiB | 1.92 MiB/s   \r"
       ]
      },
      {
       "output_type": "stream",
       "stream": "stdout",
       "text": [
        "Receiving objects:  21% (190/901), 6.56 MiB | 1.92 MiB/s   \r",
        "Receiving objects:  22% (199/901), 6.56 MiB | 1.92 MiB/s   \r",
        "Receiving objects:  23% (208/901), 6.56 MiB | 1.92 MiB/s   \r",
        "Receiving objects:  24% (217/901), 6.56 MiB | 1.92 MiB/s   \r"
       ]
      },
      {
       "output_type": "stream",
       "stream": "stdout",
       "text": [
        "Receiving objects:  24% (222/901), 10.87 MiB | 2.77 MiB/s   \r",
        "Receiving objects:  25% (226/901), 10.87 MiB | 2.77 MiB/s   \r",
        "Receiving objects:  26% (235/901), 10.87 MiB | 2.77 MiB/s   \r",
        "Receiving objects:  27% (244/901), 16.93 MiB | 3.83 MiB/s   \r",
        "Receiving objects:  28% (253/901), 16.93 MiB | 3.83 MiB/s   \r",
        "Receiving objects:  29% (262/901), 16.93 MiB | 3.83 MiB/s   \r",
        "Receiving objects:  30% (271/901), 16.93 MiB | 3.83 MiB/s   \r",
        "Receiving objects:  31% (280/901), 16.93 MiB | 3.83 MiB/s   \r",
        "Receiving objects:  32% (289/901), 16.93 MiB | 3.83 MiB/s   \r",
        "Receiving objects:  33% (298/901), 16.93 MiB | 3.83 MiB/s   \r",
        "Receiving objects:  34% (307/901), 16.93 MiB | 3.83 MiB/s   \r",
        "Receiving objects:  35% (316/901), 16.93 MiB | 3.83 MiB/s   \r",
        "Receiving objects:  36% (325/901), 16.93 MiB | 3.83 MiB/s   \r",
        "Receiving objects:  37% (334/901), 16.93 MiB | 3.83 MiB/s   \r",
        "Receiving objects:  38% (343/901), 16.93 MiB | 3.83 MiB/s   \r",
        "Receiving objects:  39% (352/901), 16.93 MiB | 3.83 MiB/s   \r",
        "Receiving objects:  40% (361/901), 16.93 MiB | 3.83 MiB/s   \r",
        "Receiving objects:  41% (370/901), 16.93 MiB | 3.83 MiB/s   \r",
        "Receiving objects:  42% (379/901), 16.93 MiB | 3.83 MiB/s   \r",
        "Receiving objects:  43% (388/901), 16.93 MiB | 3.83 MiB/s   \r",
        "Receiving objects:  44% (397/901), 16.93 MiB | 3.83 MiB/s   \r",
        "Receiving objects:  45% (406/901), 16.93 MiB | 3.83 MiB/s   \r",
        "Receiving objects:  46% (415/901), 16.93 MiB | 3.83 MiB/s   \r",
        "Receiving objects:  47% (424/901), 16.93 MiB | 3.83 MiB/s   \r",
        "Receiving objects:  48% (433/901), 16.93 MiB | 3.83 MiB/s   \r",
        "Receiving objects:  49% (442/901), 16.93 MiB | 3.83 MiB/s   \r",
        "Receiving objects:  50% (451/901), 16.93 MiB | 3.83 MiB/s   \r",
        "Receiving objects:  51% (460/901), 16.93 MiB | 3.83 MiB/s   \r",
        "Receiving objects:  52% (469/901), 16.93 MiB | 3.83 MiB/s   \r",
        "Receiving objects:  53% (478/901), 16.93 MiB | 3.83 MiB/s   \r",
        "Receiving objects:  54% (487/901), 16.93 MiB | 3.83 MiB/s   \r",
        "Receiving objects:  55% (496/901), 16.93 MiB | 3.83 MiB/s   \r",
        "Receiving objects:  56% (505/901), 16.93 MiB | 3.83 MiB/s   \r",
        "Receiving objects:  57% (514/901), 16.93 MiB | 3.83 MiB/s   \r",
        "Receiving objects:  58% (523/901), 16.93 MiB | 3.83 MiB/s   \r",
        "Receiving objects:  59% (532/901), 16.93 MiB | 3.83 MiB/s   \r",
        "Receiving objects:  60% (541/901), 16.93 MiB | 3.83 MiB/s   \r",
        "Receiving objects:  61% (550/901), 16.93 MiB | 3.83 MiB/s   \r"
       ]
      },
      {
       "output_type": "stream",
       "stream": "stdout",
       "text": [
        "Receiving objects:  62% (559/901), 16.93 MiB | 3.83 MiB/s   \r",
        "Receiving objects:  63% (568/901), 16.93 MiB | 3.83 MiB/s   \r"
       ]
      },
      {
       "output_type": "stream",
       "stream": "stdout",
       "text": [
        "Receiving objects:  64% (577/901), 16.93 MiB | 3.83 MiB/s   \r",
        "Receiving objects:  65% (586/901), 16.93 MiB | 3.83 MiB/s   \r",
        "Receiving objects:  66% (595/901), 16.93 MiB | 3.83 MiB/s   \r",
        "Receiving objects:  67% (604/901), 16.93 MiB | 3.83 MiB/s   \r",
        "Receiving objects:  68% (613/901), 16.93 MiB | 3.83 MiB/s   \r",
        "Receiving objects:  69% (622/901), 16.93 MiB | 3.83 MiB/s   \r",
        "Receiving objects:  70% (631/901), 16.93 MiB | 3.83 MiB/s   \r",
        "remote: Total 901 (delta 391), reused 847 (delta 337)\u001b[K\r\n",
        "Receiving objects:  71% (640/901), 16.93 MiB | 3.83 MiB/s   \r",
        "Receiving objects:  72% (649/901), 16.93 MiB | 3.83 MiB/s   \r",
        "Receiving objects:  73% (658/901), 16.93 MiB | 3.83 MiB/s   \r",
        "Receiving objects:  74% (667/901), 16.93 MiB | 3.83 MiB/s   \r",
        "Receiving objects:  75% (676/901), 16.93 MiB | 3.83 MiB/s   \r",
        "Receiving objects:  76% (685/901), 16.93 MiB | 3.83 MiB/s   \r",
        "Receiving objects:  77% (694/901), 16.93 MiB | 3.83 MiB/s   \r",
        "Receiving objects:  78% (703/901), 16.93 MiB | 3.83 MiB/s   \r",
        "Receiving objects:  79% (712/901), 16.93 MiB | 3.83 MiB/s   \r",
        "Receiving objects:  80% (721/901), 16.93 MiB | 3.83 MiB/s   \r",
        "Receiving objects:  81% (730/901), 16.93 MiB | 3.83 MiB/s   \r",
        "Receiving objects:  82% (739/901), 16.93 MiB | 3.83 MiB/s   \r",
        "Receiving objects:  83% (748/901), 16.93 MiB | 3.83 MiB/s   \r",
        "Receiving objects:  84% (757/901), 16.93 MiB | 3.83 MiB/s   \r",
        "Receiving objects:  85% (766/901), 16.93 MiB | 3.83 MiB/s   \r",
        "Receiving objects:  86% (775/901), 16.93 MiB | 3.83 MiB/s   \r",
        "Receiving objects:  87% (784/901), 16.93 MiB | 3.83 MiB/s   \r",
        "Receiving objects:  88% (793/901), 16.93 MiB | 3.83 MiB/s   \r",
        "Receiving objects:  89% (802/901), 16.93 MiB | 3.83 MiB/s   \r",
        "Receiving objects:  90% (811/901), 16.93 MiB | 3.83 MiB/s   \r",
        "Receiving objects:  91% (820/901), 16.93 MiB | 3.83 MiB/s   \r",
        "Receiving objects:  92% (829/901), 16.93 MiB | 3.83 MiB/s   \r",
        "Receiving objects:  93% (838/901), 16.93 MiB | 3.83 MiB/s   \r",
        "Receiving objects:  94% (847/901), 16.93 MiB | 3.83 MiB/s   \r",
        "Receiving objects:  95% (856/901), 16.93 MiB | 3.83 MiB/s   \r",
        "Receiving objects:  96% (865/901), 16.93 MiB | 3.83 MiB/s   \r",
        "Receiving objects:  97% (874/901), 16.93 MiB | 3.83 MiB/s   \r",
        "Receiving objects:  98% (883/901), 16.93 MiB | 3.83 MiB/s   \r",
        "Receiving objects:  99% (892/901), 16.93 MiB | 3.83 MiB/s   \r",
        "Receiving objects: 100% (901/901), 16.93 MiB | 3.83 MiB/s   \r",
        "Receiving objects: 100% (901/901), 17.61 MiB | 3.83 MiB/s, done.\r\n",
        "Resolving deltas:   0% (0/391)   \r",
        "Resolving deltas:   1% (4/391)   \r",
        "Resolving deltas:   3% (13/391)   \r",
        "Resolving deltas:   6% (25/391)   \r",
        "Resolving deltas:   8% (34/391)   \r",
        "Resolving deltas:   9% (36/391)   \r",
        "Resolving deltas:  13% (52/391)   \r",
        "Resolving deltas:  14% (57/391)   \r",
        "Resolving deltas:  20% (79/391)   \r",
        "Resolving deltas:  21% (86/391)   \r",
        "Resolving deltas:  30% (121/391)   \r",
        "Resolving deltas:  31% (125/391)   \r",
        "Resolving deltas:  32% (127/391)   \r",
        "Resolving deltas:  36% (141/391)   \r",
        "Resolving deltas:  39% (153/391)   \r",
        "Resolving deltas:  52% (204/391)   \r",
        "Resolving deltas:  53% (210/391)   \r",
        "Resolving deltas:  54% (213/391)   \r",
        "Resolving deltas:  55% (216/391)   \r",
        "Resolving deltas:  56% (220/391)   \r",
        "Resolving deltas:  57% (225/391)   \r",
        "Resolving deltas:  58% (227/391)   \r",
        "Resolving deltas:  59% (232/391)   \r",
        "Resolving deltas:  62% (245/391)   \r",
        "Resolving deltas:  63% (247/391)   \r",
        "Resolving deltas:  72% (284/391)   \r",
        "Resolving deltas:  74% (290/391)   \r",
        "Resolving deltas:  75% (296/391)   \r",
        "Resolving deltas:  76% (299/391)   \r",
        "Resolving deltas:  78% (305/391)   \r",
        "Resolving deltas:  81% (318/391)   \r",
        "Resolving deltas:  83% (325/391)   \r",
        "Resolving deltas:  90% (352/391)   \r",
        "Resolving deltas:  91% (359/391)   \r",
        "Resolving deltas:  93% (364/391)   \r"
       ]
      },
      {
       "output_type": "stream",
       "stream": "stdout",
       "text": [
        "Resolving deltas: 100% (391/391)   \r",
        "Resolving deltas: 100% (391/391), done.\r\n"
       ]
      }
     ],
     "prompt_number": 1
    },
    {
     "cell_type": "markdown",
     "metadata": {},
     "source": [
      "If you only want to update use <tt>pull</tt> instead and then run the above command."
     ]
    },
    {
     "cell_type": "code",
     "collapsed": false,
     "input": [
      "!cd SmallFiles; git pull"
     ],
     "language": "python",
     "metadata": {},
     "outputs": [
      {
       "output_type": "stream",
       "stream": "stdout",
       "text": [
        "remote: Counting objects: 19, done.\u001b[K\r\n",
        "remote: Compressing objects:  11% (1/9)   \u001b[K\r",
        "remote: Compressing objects:  22% (2/9)   \u001b[K\r",
        "remote: Compressing objects:  33% (3/9)   \u001b[K\r",
        "remote: Compressing objects:  44% (4/9)   \u001b[K\r",
        "remote: Compressing objects:  55% (5/9)   \u001b[K\r",
        "remote: Compressing objects:  66% (6/9)   \u001b[K\r",
        "remote: Compressing objects:  77% (7/9)   \u001b[K\r",
        "remote: Compressing objects:  88% (8/9)   \u001b[K\r",
        "remote: Compressing objects: 100% (9/9)   \u001b[K\r",
        "remote: Compressing objects: 100% (9/9), done.\u001b[K\r\n"
       ]
      },
      {
       "output_type": "stream",
       "stream": "stdout",
       "text": [
        "Unpacking objects:  10% (1/10)   \r",
        "Unpacking objects:  20% (2/10)   \r",
        "Unpacking objects:  30% (3/10)   \r",
        "Unpacking objects:  40% (4/10)   \r",
        "Unpacking objects:  50% (5/10)   \r",
        "Unpacking objects:  60% (6/10)   \r",
        "Unpacking objects:  70% (7/10)   \r"
       ]
      },
      {
       "output_type": "stream",
       "stream": "stdout",
       "text": [
        "Unpacking objects:  80% (8/10)   \r",
        "Unpacking objects:  90% (9/10)   \r"
       ]
      },
      {
       "output_type": "stream",
       "stream": "stdout",
       "text": [
        "remote: Total 10 (delta 1), reused 10 (delta 1)\u001b[K\r\n",
        "Unpacking objects: 100% (10/10)   \r",
        "Unpacking objects: 100% (10/10), done.\r\n",
        "From https://github.com/kschwank/SmallFiles\r\n",
        "   3387536..1a12067  2.6        -> origin/2.6\r\n"
       ]
      },
      {
       "output_type": "stream",
       "stream": "stdout",
       "text": [
        "Updating 3387536..1a12067\r\n"
       ]
      },
      {
       "output_type": "stream",
       "stream": "stdout",
       "text": [
        "Fast-forward\r\n",
        " src/skel/usr/local/lib/dcache-smallfiles_2.10-2.6.jar    | Bin 63 -> 8488352 bytes\r\n",
        " src/skel/usr/local/lib/nailgun-server-0.9.2-SNAPSHOT.jar | Bin 78 -> 33837 bytes\r\n",
        " src/skel/usr/local/lib/scala-library-2.10.2.jar          | Bin 43 -> 7121818 bytes\r\n",
        " 3 files changed, 0 insertions(+), 0 deletions(-)\r\n",
        " mode change 120000 => 100644 src/skel/usr/local/lib/dcache-smallfiles_2.10-2.6.jar\r\n",
        " mode change 120000 => 100644 src/skel/usr/local/lib/nailgun-server-0.9.2-SNAPSHOT.jar\r\n",
        " mode change 120000 => 100644 src/skel/usr/local/lib/scala-library-2.10.2.jar\r\n"
       ]
      }
     ],
     "prompt_number": 15
    },
    {
     "cell_type": "markdown",
     "metadata": {},
     "source": [
      "We need to update the submodules in both cases"
     ]
    },
    {
     "cell_type": "code",
     "collapsed": false,
     "input": [
      "!cd SmallFiles; git submodule update"
     ],
     "language": "python",
     "metadata": {},
     "outputs": []
    },
    {
     "cell_type": "markdown",
     "metadata": {},
     "source": [
      "Now, we checkout the matching branch"
     ]
    },
    {
     "cell_type": "code",
     "collapsed": false,
     "input": [
      "!cd SmallFiles; git checkout 2.6"
     ],
     "language": "python",
     "metadata": {},
     "outputs": [
      {
       "output_type": "stream",
       "stream": "stdout",
       "text": [
        "Branch 2.6 set up to track remote branch 2.6 from origin.\r\n",
        "Switched to a new branch '2.6'\r\n"
       ]
      }
     ],
     "prompt_number": 14
    },
    {
     "cell_type": "markdown",
     "metadata": {},
     "source": [
      "We now need to build the Nailgun libraries for your platform:"
     ]
    },
    {
     "cell_type": "code",
     "collapsed": false,
     "input": [
      "!cd SmallFiles/nailgun; make; make install"
     ],
     "language": "python",
     "metadata": {},
     "outputs": [
      {
       "output_type": "stream",
       "stream": "stdout",
       "text": [
        "make: `ng' is up to date.\r\n",
        "install ng /usr/local/bin\r\n"
       ]
      }
     ],
     "prompt_number": 13
    },
    {
     "cell_type": "heading",
     "level": 6,
     "metadata": {},
     "source": [
      "Note: Please also refer to the IPython notebook that comes with the SmallFiles repository. You can find it in the directory <tt>src/main/ipy<tt>."
     ]
    },
    {
     "cell_type": "markdown",
     "metadata": {},
     "source": [
      "Install the dcap libraries"
     ]
    },
    {
     "cell_type": "code",
     "collapsed": false,
     "input": [
      "!yum --assumeyes install dcap"
     ],
     "language": "python",
     "metadata": {},
     "outputs": [
      {
       "output_type": "stream",
       "stream": "stdout",
       "text": [
        "Loaded plugins: dellsysid, security\r\n"
       ]
      },
      {
       "output_type": "stream",
       "stream": "stdout",
       "text": [
        "Setting up Install Process\r\n"
       ]
      },
      {
       "output_type": "stream",
       "stream": "stdout",
       "text": [
        "Resolving Dependencies\r\n",
        "--> Running transaction check\r\n",
        "---> Package dcap.x86_64 0:2.47.7-3.el6 will be installed\r\n",
        "--> Processing Dependency: dcap-libs(x86-64) = 2.47.7-3.el6 for package: dcap-2.47.7-3.el6.x86_64\r\n"
       ]
      },
      {
       "output_type": "stream",
       "stream": "stdout",
       "text": [
        "--> Processing Dependency: libdcap.so.1()(64bit) for package: dcap-2.47.7-3.el6.x86_64\r\n",
        "--> Running transaction check\r\n",
        "---> Package dcap-libs.x86_64 0:2.47.7-3.el6 will be installed\r\n"
       ]
      },
      {
       "output_type": "stream",
       "stream": "stdout",
       "text": [
        "--> Finished Dependency Resolution\r\n"
       ]
      },
      {
       "output_type": "stream",
       "stream": "stdout",
       "text": [
        "\r\n",
        "Dependencies Resolved\r\n",
        "\r\n",
        "================================================================================\r\n",
        " Package          Arch          Version                Repository          Size\r\n",
        "================================================================================\r\n",
        "Installing:\r\n",
        " dcap             x86_64        2.47.7-3.el6           sld6-common         15 k\r\n",
        "Installing for dependencies:\r\n",
        " dcap-libs        x86_64        2.47.7-3.el6           sld6-common         80 k\r\n",
        "\r\n",
        "Transaction Summary\r\n",
        "================================================================================\r\n",
        "Install       2 Package(s)\r\n",
        "\r\n",
        "Total download size: 95 k\r\n",
        "Installed size: 294 k\r\n",
        "Downloading Packages:\r\n"
       ]
      },
      {
       "output_type": "stream",
       "stream": "stdout",
       "text": [
        "\r",
        "(1/2): dcap-2.47.7-3.el6.x86_64.rpm                      |  15 kB     00:00     \r\n",
        "\r",
        "(2/2): dcap-libs-2.47.7-3.el6.x86_64.rpm                 |  80 kB     00:00     \r\n",
        "--------------------------------------------------------------------------------\r\n",
        "Total                                           2.4 MB/s |  95 kB     00:00     \r\n",
        "Running rpm_check_debug\r\n",
        "Running Transaction Test\r\n"
       ]
      },
      {
       "output_type": "stream",
       "stream": "stdout",
       "text": [
        "Transaction Test Succeeded\r\n",
        "Running Transaction\r\n"
       ]
      },
      {
       "output_type": "stream",
       "stream": "stdout",
       "text": [
        "\r",
        "  Installing : dcap-libs-2.47.7-3.el6.x86_6 [                             ] 1/2\r",
        "  Installing : dcap-libs-2.47.7-3.el6.x86_6 [######                       ] 1/2\r",
        "  Installing : dcap-libs-2.47.7-3.el6.x86_6 [############                 ] 1/2\r",
        "  Installing : dcap-libs-2.47.7-3.el6.x86_6 [###################          ] 1/2\r",
        "  Installing : dcap-libs-2.47.7-3.el6.x86_6 [#########################    ] 1/2\r",
        "  Installing : dcap-libs-2.47.7-3.el6.x86_6 [##########################   ] 1/2\r",
        "  Installing : dcap-libs-2.47.7-3.el6.x86_6 [############################ ] 1/2"
       ]
      },
      {
       "output_type": "stream",
       "stream": "stdout",
       "text": [
        "\r",
        "  Installing : dcap-libs-2.47.7-3.el6.x86_64                                1/2 \r\n",
        "\r",
        "  Installing : dcap-2.47.7-3.el6.x86_64 [##############################   ] 2/2\r",
        "  Installing : dcap-2.47.7-3.el6.x86_64 [################################ ] 2/2\r",
        "  Installing : dcap-2.47.7-3.el6.x86_64                                     2/2 \r\n",
        "\r",
        "  Verifying  : dcap-2.47.7-3.el6.x86_64                                     1/2 \r\n",
        "\r",
        "  Verifying  : dcap-libs-2.47.7-3.el6.x86_64                                2/2 \r\n"
       ]
      },
      {
       "output_type": "stream",
       "stream": "stdout",
       "text": [
        "\r\n",
        "Installed:\r\n",
        "  dcap.x86_64 0:2.47.7-3.el6                                                    \r\n",
        "\r\n",
        "Dependency Installed:\r\n",
        "  dcap-libs.x86_64 0:2.47.7-3.el6                                               \r\n",
        "\r\n",
        "Complete!\r\n"
       ]
      }
     ],
     "prompt_number": 21
    },
    {
     "cell_type": "markdown",
     "metadata": {},
     "source": [
      "The SmallFiles Add-on consists of several libraries and scripts. These are in the order of the followin installation:\n",
      "\n",
      "1. Scala libraries\n",
      "1. Nailgun libraries\n",
      "1. HSM scripts"
     ]
    },
    {
     "cell_type": "code",
     "collapsed": false,
     "input": [
      "%%bash\n",
      "BIN_DIR=/usr/local/bin\n",
      "LIB_DIR=/usr/local/lib\n",
      "\n",
      "cp SmallFiles/nailgun/ng ${BIN_DIR}/\n",
      "cp SmallFiles/src/skel/usr/local/bin/run-ng-server ${BIN_DIR}/\n",
      "cp SmallFiles/src/skel/usr/local/bin/loadChimeraNailgun.sh ${BIN_DIR}/\n",
      "cp SmallFiles/src/skel/usr/local/bin/createNGlinks.sh ${BIN_DIR}/\n",
      "cp SmallFiles/src/skel/usr/local/lib/scala-library* ${LIB_DIR}/\n",
      "cp SmallFiles/src/skel/usr/local/lib/nailgun-server* ${LIB_DIR}/\n",
      "cp SmallFiles/src/skel/usr/local/lib/dcache-smallfiles* ${LIB_DIR}/\n",
      "\n"
     ],
     "language": "python",
     "metadata": {},
     "outputs": [],
     "prompt_number": 22
    },
    {
     "cell_type": "markdown",
     "metadata": {},
     "source": [
      "Create symlinks to <tt>ng</tt>:"
     ]
    },
    {
     "cell_type": "code",
     "collapsed": false,
     "input": [
      "!sh /usr/local/bin/createNGlinks.sh /usr/local/bin /usr/local/bin/ng"
     ],
     "language": "python",
     "metadata": {},
     "outputs": [
      {
       "output_type": "stream",
       "stream": "stdout",
       "text": [
        "creating symlinks for chimera nails to /usr/local/bin/ng in /usr/local/bin.\r\n",
        "done.\r\n"
       ]
      }
     ],
     "prompt_number": 19
    },
    {
     "cell_type": "markdown",
     "metadata": {},
     "source": [
      "If you want to create archives by their sGroup and OSMTemplate use <tt>hsm-internal-by-group.sh</tt> "
     ]
    },
    {
     "cell_type": "code",
     "collapsed": false,
     "input": [
      "%%bash\n",
      "DCACHE_LIB=/usr/share/dcache/lib\n",
      "cp SmallFiles/src/skel/usr/share/dcache/lib/hsm-internal-by-group.sh ${DCACHE_LIB}/"
     ],
     "language": "python",
     "metadata": {},
     "outputs": []
    },
    {
     "cell_type": "markdown",
     "metadata": {},
     "source": [
      "if you want to archive them by subdirectory use <tt>hsm-internal-by-dir.sh</tt>"
     ]
    },
    {
     "cell_type": "code",
     "collapsed": false,
     "input": [
      "%%bash\n",
      "DCACHE_LIB=/usr/share/dcache/lib\n",
      "cp SmallFiles/src/skel/usr/share/dcache/lib/hsm-internal-by-dir.sh ${DCACHE_LIB}/"
     ],
     "language": "python",
     "metadata": {},
     "outputs": []
    },
    {
     "cell_type": "markdown",
     "metadata": {},
     "source": [
      "Now, edit <tt>hsm-internal-*</tt> to your needs. Namely set\n",
      "\n",
      "1. <tt>LOG</tt> to be used as logfile (the default is probably fine) <br>\n",
      "1. <tt>AWK</tt> to your awk binary (the default is probably fine) <br>\n",
      "1. <tt>LIBPDCAP</tt> to the dcap library (the default is probably fine)\n",
      "1. <tt>DCAP_DOOR</tt> to your dCache's dcap door (you probably have to change this!)\n",
      "1. <tt>CHIMERA_PARAMS</tt> to reflect the parameters needed to connect to the chimera database:\n",
      "The parameter string consists of 5 values: <br>\n",
      "<tt>\"{driver} {db_url} {db_dialect} {user} {password}\"</tt> <br>\n",
      "Most values are probably fine, except for the db_url and the password (if you set one)."
     ]
    },
    {
     "cell_type": "markdown",
     "metadata": {},
     "source": [
      "Login to your dCache using the admin interface an cd into this pool!"
     ]
    },
    {
     "cell_type": "markdown",
     "metadata": {},
     "source": [
      "Configure the HSM by executing the 3 commands:\n",
      "\n",
      "1. <tt>hsm set dcache -hsmBase=hsm</tt>\n",
      "1. <tt>hsm set dcache -command=/usr/share/dcache/lib/hsm-internal-by-group.sh</tt> # or hsm-internal-by-dir.sh\n",
      "1. <tt>hsm set dcache -dataRoot=/data</tt>"
     ]
    },
    {
     "cell_type": "markdown",
     "metadata": {},
     "source": [
      "Then set the storage handlers and restore handlers by executing:\n",
      "\n",
      "1. <tt>st set max active 2</tt>\n",
      "1. <tt>rh set max active 2</tt>"
     ]
    }
   ],
   "metadata": {}
  }
 ]
}