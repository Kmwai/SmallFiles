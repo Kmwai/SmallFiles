{
 "metadata": {
  "name": ""
 },
 "nbformat": 3,
 "nbformat_minor": 0,
 "worksheets": [
  {
   "cells": [
    {
     "cell_type": "heading",
     "level": 4,
     "metadata": {},
     "source": [
      "This Document leads you through the installation of the SmallFiles capabilities add-on for a dCache Pool that stores small files."
     ]
    },
    {
     "cell_type": "markdown",
     "metadata": {},
     "source": [
      "First we will get all the needed files from the public repository on github. Make sure you have installed <tt>git</tt>!"
     ]
    },
    {
     "cell_type": "code",
     "collapsed": false,
     "input": [
      "!git clone https://github.com/kschwank/SmallFiles.git\n",
      "!cd SmallFiles; git submodule init"
     ],
     "language": "python",
     "metadata": {},
     "outputs": []
    },
    {
     "cell_type": "markdown",
     "metadata": {},
     "source": [
      "If you only want to update use <tt>pull</tt> instead and then run the above command."
     ]
    },
    {
     "cell_type": "code",
     "collapsed": false,
     "input": [
      "!cd SmallFiles; git pull"
     ],
     "language": "python",
     "metadata": {},
     "outputs": []
    },
    {
     "cell_type": "markdown",
     "metadata": {},
     "source": [
      "We need to update the submodules in both cases"
     ]
    },
    {
     "cell_type": "code",
     "collapsed": false,
     "input": [
      "!cd SmallFiles; git submodule update"
     ],
     "language": "python",
     "metadata": {},
     "outputs": []
    },
    {
     "cell_type": "markdown",
     "metadata": {},
     "source": [
      "Now, we checkout the matching branch"
     ]
    },
    {
     "cell_type": "code",
     "collapsed": false,
     "input": [
      "!cd SmallFiles; git checkout 2.6"
     ],
     "language": "python",
     "metadata": {},
     "outputs": []
    },
    {
     "cell_type": "markdown",
     "metadata": {},
     "source": [
      "We now need to build the Nailgun libraries for your platform:"
     ]
    },
    {
     "cell_type": "code",
     "collapsed": false,
     "input": [
      "!cd SmallFiles/nailgun; make; make install"
     ],
     "language": "python",
     "metadata": {},
     "outputs": []
    },
    {
     "cell_type": "heading",
     "level": 6,
     "metadata": {},
     "source": [
      "Note: Please also refer to the IPython notebook that comes with the SmallFiles repository. You can find it in the directory <tt>src/main/ipy<tt>."
     ]
    },
    {
     "cell_type": "markdown",
     "metadata": {},
     "source": [
      "Install the dcap libraries"
     ]
    },
    {
     "cell_type": "code",
     "collapsed": false,
     "input": [
      "!yum --assumeyes install dcap"
     ],
     "language": "python",
     "metadata": {},
     "outputs": []
    },
    {
     "cell_type": "markdown",
     "metadata": {},
     "source": [
      "The SmallFiles Add-on consists of several libraries and scripts. These are in the order of the followin installation:\n",
      "\n",
      "1. Scala libraries\n",
      "1. Nailgun libraries\n",
      "1. HSM scripts"
     ]
    },
    {
     "cell_type": "code",
     "collapsed": false,
     "input": [
      "%%bash\n",
      "BIN_DIR=/usr/local/bin\n",
      "LIB_DIR=/usr/local/lib\n",
      "\n",
      "cp SmallFiles/nailgun/ng ${BIN_DIR}/\n",
      "cp SmallFiles/src/skel/usr/local/bin/run-ng-server ${BIN_DIR}/\n",
      "cp SmallFiles/src/skel/usr/local/bin/loadChimeraNailgun.sh ${BIN_DIR}/\n",
      "cp SmallFiles/src/skel/usr/local/bin/createNGlinks.sh ${BIN_DIR}/\n",
      "cp SmallFiles/src/skel/usr/local/lib/scala-library* ${LIB_DIR}/\n",
      "cp SmallFiles/src/skel/usr/local/lib/nailgun-server* ${LIB_DIR}/\n",
      "cp SmallFiles/src/skel/usr/local/lib/dcache-smallfiles* ${LIB_DIR}/\n",
      "\n"
     ],
     "language": "python",
     "metadata": {},
     "outputs": []
    },
    {
     "cell_type": "markdown",
     "metadata": {},
     "source": [
      "Create symlinks to <tt>ng</tt>:"
     ]
    },
    {
     "cell_type": "code",
     "collapsed": false,
     "input": [
      "!sh /usr/local/bin/createNGlinks.sh /usr/local/bin /usr/local/bin/ng"
     ],
     "language": "python",
     "metadata": {},
     "outputs": []
    },
    {
     "cell_type": "markdown",
     "metadata": {},
     "source": [
      "If you want to create archives by their sGroup and OSMTemplate use <tt>hsm-internal-by-group.sh</tt> "
     ]
    },
    {
     "cell_type": "code",
     "collapsed": false,
     "input": [
      "%%bash\n",
      "DCACHE_LIB=/usr/share/dcache/lib\n",
      "cp SmallFiles/src/skel/usr/share/dcache/lib/hsm-internal-by-group.sh ${DCACHE_LIB}/"
     ],
     "language": "python",
     "metadata": {},
     "outputs": []
    },
    {
     "cell_type": "markdown",
     "metadata": {},
     "source": [
      "if you want to archive them by subdirectory use <tt>hsm-internal-by-dir.sh</tt>"
     ]
    },
    {
     "cell_type": "code",
     "collapsed": false,
     "input": [
      "%%bash\n",
      "DCACHE_LIB=/usr/share/dcache/lib\n",
      "cp SmallFiles/src/skel/usr/share/dcache/lib/hsm-internal-by-dir.sh ${DCACHE_LIB}/"
     ],
     "language": "python",
     "metadata": {},
     "outputs": []
    },
    {
     "cell_type": "markdown",
     "metadata": {},
     "source": [
      "Now, edit <tt>hsm-internal-*</tt> to your needs. Namely set\n",
      "\n",
      "1. <tt>LOG</tt> to be used as logfile (the default is probably fine) <br>\n",
      "1. <tt>AWK</tt> to your awk binary (the default is probably fine) <br>\n",
      "1. <tt>LIBPDCAP</tt> to the dcap library (the default is probably fine)\n",
      "1. <tt>DCAP_DOOR</tt> to your dCache's dcap door (you probably have to change this!)\n",
      "1. <tt>CHIMERA_PARAMS</tt> to reflect the parameters needed to connect to the chimera database:\n",
      "The parameter string consists of 5 values: <br>\n",
      "<tt>\"{driver} {db_url} {db_dialect} {user} {password}\"</tt> <br>\n",
      "Most values are probably fine, except for the db_url and the password (if you set one)."
     ]
    },
    {
     "cell_type": "markdown",
     "metadata": {},
     "source": [
      "Login to your dCache using the admin interface an cd into this pool!"
     ]
    },
    {
     "cell_type": "markdown",
     "metadata": {},
     "source": [
      "Configure the HSM by executing the 3 commands:\n",
      "\n",
      "1. <tt>hsm set dcache -hsmBase=hsm</tt>\n",
      "1. <tt>hsm set dcache -command=/usr/share/dcache/lib/hsm-internal-by-group.sh</tt> # or hsm-internal-by-dir.sh\n",
      "1. <tt>hsm set dcache -dataRoot=/data</tt>"
     ]
    },
    {
     "cell_type": "markdown",
     "metadata": {},
     "source": [
      "Then set the storage handlers and restore handlers by executing:\n",
      "\n",
      "1. <tt>st set max active 2</tt>\n",
      "1. <tt>rh set max active 2</tt>"
     ]
    },
    {
     "cell_type": "markdown",
     "metadata": {},
     "source": [
      "When you are finished, don't forget to <tt>save</tt>!"
     ]
    },
    {
     "cell_type": "markdown",
     "metadata": {},
     "source": [
      "To increase the file input rate to your pools, you may want to switch of checksums on write. To do so, edit the <tt>setup</tt> file in your pool's directory and set <br/> <code>csm set policy -onwrite=off</code>"
     ]
    }
   ],
   "metadata": {}
  }
 ]
}