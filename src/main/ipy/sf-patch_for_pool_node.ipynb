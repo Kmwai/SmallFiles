{
 "metadata": {
  "name": ""
 },
 "nbformat": 3,
 "nbformat_minor": 0,
 "worksheets": [
  {
   "cells": [
    {
     "cell_type": "heading",
     "level": 4,
     "metadata": {},
     "source": [
      "This Document leads you through the installation of the SmallFiles capabilities add-on for a dCache Pool that stores small files."
     ]
    },
    {
     "cell_type": "markdown",
     "metadata": {},
     "source": [
      "First we will get all the needed files from the public repository on github. Make sure you have installed <tt>git</tt>!"
     ]
    },
    {
     "cell_type": "code",
     "collapsed": false,
     "input": [
      "!git clone https://github.com/kschwank/SmallFiles.git\n",
      "!cd SmallFiles; git submodule init"
     ],
     "language": "python",
     "metadata": {},
     "outputs": []
    },
    {
     "cell_type": "markdown",
     "metadata": {},
     "source": [
      "If you only want to update use <tt>pull</tt> instead and then run the above command."
     ]
    },
    {
     "cell_type": "code",
     "collapsed": false,
     "input": [
      "!cd SmallFiles; git pull"
     ],
     "language": "python",
     "metadata": {},
     "outputs": []
    },
    {
     "cell_type": "markdown",
     "metadata": {},
     "source": [
      "Now, we checkout the matching branch"
     ]
    },
    {
     "cell_type": "code",
     "collapsed": false,
     "input": [
      "!cd SmallFiles; git checkout use-mongodb/2.6"
     ],
     "language": "python",
     "metadata": {},
     "outputs": []
    },
    {
     "cell_type": "heading",
     "level": 6,
     "metadata": {},
     "source": [
      "Note: Please also refer to the IPython notebook that comes with the SmallFiles repository. You can find it in the directory <tt>src/main/ipy<tt>."
     ]
    },
    {
     "cell_type": "markdown",
     "metadata": {},
     "source": [
      "Install the dcap libraries"
     ]
    },
    {
     "cell_type": "code",
     "collapsed": false,
     "input": [
      "!yum --assumeyes install dcap"
     ],
     "language": "python",
     "metadata": {},
     "outputs": []
    },
    {
     "cell_type": "markdown",
     "metadata": {},
     "source": [
      "The SmallFiles Add-on consists of several scripts. These are in the order of the following installation:\n",
      "\n",
      "1. HSM scripts"
     ]
    },
    {
     "cell_type": "markdown",
     "metadata": {},
     "source": [
      "Copy the HSM Script and the <tt>datasetPut.js</tt> script."
     ]
    },
    {
     "cell_type": "code",
     "collapsed": false,
     "input": [
      "%%bash\n",
      "DCACHE_LIB=/usr/share/dcache/lib\n",
      "cp SmallFiles/src/skel/usr/share/dcache/lib/hsm-internal.sh ${DCACHE_LIB}/\n",
      "cp SmallFiles/src/skel/usr/share/dcache/lib/datasetPut.js ${DCACHE_LIB}/"
     ],
     "language": "python",
     "metadata": {},
     "outputs": []
    },
    {
     "cell_type": "markdown",
     "metadata": {},
     "source": [
      "Now, edit <tt>hsm-internal.sh</tt> to your needs. Namely set\n",
      "\n",
      "1. <tt>LOG</tt> to be used as logfile (the default is probably fine) <br>\n",
      "1. <tt>AWK</tt> to your awk binary (the default is probably fine) <br>\n",
      "1. <tt>LIBPDCAP</tt> to the dcap library (the default is probably fine)\n",
      "1. <tt>DCAP_DOOR</tt> to your dCache's dcap door (you probably have to change this!)"
     ]
    },
    {
     "cell_type": "markdown",
     "metadata": {},
     "source": [
      "Login to your dCache using the admin interface an cd into this pool!"
     ]
    },
    {
     "cell_type": "markdown",
     "metadata": {},
     "source": [
      "Configure the HSM by executing the following commands:\n",
      "\n",
      "1. <tt>hsm set dcache -command=/usr/share/dcache/lib/hsm-internal.sh</tt>\n",
      "1. <tt>hsm set dcache -mongoUrl=mongohost/smallfiles</tt>"
     ]
    },
    {
     "cell_type": "markdown",
     "metadata": {},
     "source": [
      "Then set the storage handlers and restore handlers by executing:\n",
      "\n",
      "1. <tt>st set max active 2</tt>\n",
      "1. <tt>rh set max active 2</tt>"
     ]
    },
    {
     "cell_type": "markdown",
     "metadata": {},
     "source": [
      "When you are finished, don't forget to <tt>save</tt>!"
     ]
    },
    {
     "cell_type": "markdown",
     "metadata": {},
     "source": [
      "To increase the file input rate to your pools, you may want to switch of checksums on write. To do so, edit the <tt>setup</tt> file in your pool's directory and set <br/> <code>csm set policy -onwrite=off</code>"
     ]
    }
   ],
   "metadata": {}
  }
 ]
}