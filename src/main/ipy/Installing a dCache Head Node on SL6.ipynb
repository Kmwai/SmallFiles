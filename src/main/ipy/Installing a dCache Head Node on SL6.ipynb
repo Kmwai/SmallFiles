{
 "metadata": {
  "name": ""
 },
 "nbformat": 3,
 "nbformat_minor": 0,
 "worksheets": [
  {
   "cells": [
    {
     "cell_type": "markdown",
     "metadata": {},
     "source": [
      "This IPython Notebook is part of a collection of notebooks guiding you through the installation of dCache nodes for multiple puposes.\n",
      "This notebook will guide you through the installation of a dCache Head node with dCache version 2.6.x on Scientific Linux 6.\n",
      "\n",
      "We will go through the following steps:\n",
      "\n",
      "1. Install Postgresql 9.3\n",
      "1. Prepare Postgres for dCache \n",
      "1. Get dCache from the dCache website\n",
      "1. Install dCache\n",
      "1. Configure dCache"
     ]
    },
    {
     "cell_type": "markdown",
     "metadata": {},
     "source": [
      "For several steps you will require root privileges. Therefore it is required that the notebook server is run as root. Please be extra careful!"
     ]
    },
    {
     "cell_type": "heading",
     "level": 2,
     "metadata": {},
     "source": [
      "Postgresql 9.3"
     ]
    },
    {
     "cell_type": "markdown",
     "metadata": {},
     "source": [
      "SL6 only comes with Postgres 8.4, but dCache strongly suggests to use 9.2 or higher. To to able to install a matching version we will download the repository from http://yum.postgresql.org/ "
     ]
    },
    {
     "cell_type": "code",
     "collapsed": false,
     "input": [
      "!wget http://yum.postgresql.org/9.3/redhat/rhel-6-x86_64/pgdg-sl93-9.3-1.noarch.rpm"
     ],
     "language": "python",
     "metadata": {},
     "outputs": []
    },
    {
     "cell_type": "markdown",
     "metadata": {},
     "source": [
      "and install it"
     ]
    },
    {
     "cell_type": "code",
     "collapsed": false,
     "input": [
      "!yum install pgdg-sl93-9.3-1.noarch.rpm"
     ],
     "language": "python",
     "metadata": {},
     "outputs": []
    },
    {
     "cell_type": "markdown",
     "metadata": {},
     "source": [
      "this makes available <tt>postgresql93-server</tt> containing the server and <tt>postgresql93</tt> containing the client programs.\n",
      "\n",
      "To install these run"
     ]
    },
    {
     "cell_type": "code",
     "collapsed": false,
     "input": [
      "!yum install postgresql93-server postgresql93"
     ],
     "language": "python",
     "metadata": {},
     "outputs": []
    },
    {
     "cell_type": "heading",
     "level": 3,
     "metadata": {},
     "source": [
      "Configuration"
     ]
    },
    {
     "cell_type": "markdown",
     "metadata": {},
     "source": [
      "Next we have to initialize the database. To do that run"
     ]
    },
    {
     "cell_type": "code",
     "collapsed": false,
     "input": [
      "!service postgresql-9.3 initdb"
     ],
     "language": "python",
     "metadata": {},
     "outputs": []
    },
    {
     "cell_type": "markdown",
     "metadata": {},
     "source": [
      "This creates the database in <tt>/var/lib/pgsql/9.3/data</tt>"
     ]
    },
    {
     "cell_type": "markdown",
     "metadata": {},
     "source": [
      " This directory contains a file called <tt>pg_hba.conf</tt> containing the security settings for the database."
     ]
    },
    {
     "cell_type": "code",
     "collapsed": false,
     "input": [
      "!cat /var/lib/pgsql/9.3/data/pg_hba.conf"
     ],
     "language": "python",
     "metadata": {},
     "outputs": [
      {
       "output_type": "stream",
       "stream": "stdout",
       "text": [
        "# PostgreSQL Client Authentication Configuration File\r\n",
        "# ===================================================\r\n",
        "#\r\n",
        "# Refer to the \"Client Authentication\" section in the PostgreSQL\r\n",
        "# documentation for a complete description of this file.  A short\r\n",
        "# synopsis follows.\r\n",
        "#\r\n",
        "# This file controls: which hosts are allowed to connect, how clients\r\n",
        "# are authenticated, which PostgreSQL user names they can use, which\r\n",
        "# databases they can access.  Records take one of these forms:\r\n",
        "#\r\n",
        "# local      DATABASE  USER  METHOD  [OPTIONS]\r\n",
        "# host       DATABASE  USER  ADDRESS  METHOD  [OPTIONS]\r\n",
        "# hostssl    DATABASE  USER  ADDRESS  METHOD  [OPTIONS]\r\n",
        "# hostnossl  DATABASE  USER  ADDRESS  METHOD  [OPTIONS]\r\n",
        "#\r\n",
        "# (The uppercase items must be replaced by actual values.)\r\n",
        "#\r\n",
        "# The first field is the connection type: \"local\" is a Unix-domain\r\n",
        "# socket, \"host\" is either a plain or SSL-encrypted TCP/IP socket,\r\n",
        "# \"hostssl\" is an SSL-encrypted TCP/IP socket, and \"hostnossl\" is a\r\n",
        "# plain TCP/IP socket.\r\n",
        "#\r\n",
        "# DATABASE can be \"all\", \"sameuser\", \"samerole\", \"replication\", a\r\n",
        "# database name, or a comma-separated list thereof. The \"all\"\r\n",
        "# keyword does not match \"replication\". Access to replication\r\n",
        "# must be enabled in a separate record (see example below).\r\n",
        "#\r\n",
        "# USER can be \"all\", a user name, a group name prefixed with \"+\", or a\r\n",
        "# comma-separated list thereof.  In both the DATABASE and USER fields\r\n",
        "# you can also write a file name prefixed with \"@\" to include names\r\n",
        "# from a separate file.\r\n",
        "#\r\n",
        "# ADDRESS specifies the set of hosts the record matches.  It can be a\r\n",
        "# host name, or it is made up of an IP address and a CIDR mask that is\r\n",
        "# an integer (between 0 and 32 (IPv4) or 128 (IPv6) inclusive) that\r\n",
        "# specifies the number of significant bits in the mask.  A host name\r\n",
        "# that starts with a dot (.) matches a suffix of the actual host name.\r\n",
        "# Alternatively, you can write an IP address and netmask in separate\r\n",
        "# columns to specify the set of hosts.  Instead of a CIDR-address, you\r\n",
        "# can write \"samehost\" to match any of the server's own IP addresses,\r\n",
        "# or \"samenet\" to match any address in any subnet that the server is\r\n",
        "# directly connected to.\r\n",
        "#\r\n",
        "# METHOD can be \"trust\", \"reject\", \"md5\", \"password\", \"gss\", \"sspi\",\r\n",
        "# \"krb5\", \"ident\", \"peer\", \"pam\", \"ldap\", \"radius\" or \"cert\".  Note that\r\n",
        "# \"password\" sends passwords in clear text; \"md5\" is preferred since\r\n",
        "# it sends encrypted passwords.\r\n",
        "#\r\n",
        "# OPTIONS are a set of options for the authentication in the format\r\n",
        "# NAME=VALUE.  The available options depend on the different\r\n",
        "# authentication methods -- refer to the \"Client Authentication\"\r\n",
        "# section in the documentation for a list of which options are\r\n",
        "# available for which authentication methods.\r\n",
        "#\r\n",
        "# Database and user names containing spaces, commas, quotes and other\r\n",
        "# special characters must be quoted.  Quoting one of the keywords\r\n",
        "# \"all\", \"sameuser\", \"samerole\" or \"replication\" makes the name lose\r\n",
        "# its special character, and just match a database or username with\r\n",
        "# that name.\r\n",
        "#\r\n",
        "# This file is read on server startup and when the postmaster receives\r\n",
        "# a SIGHUP signal.  If you edit the file on a running system, you have\r\n",
        "# to SIGHUP the postmaster for the changes to take effect.  You can\r\n",
        "# use \"pg_ctl reload\" to do that.\r\n",
        "\r\n",
        "# Put your actual configuration here\r\n",
        "# ----------------------------------\r\n",
        "#\r\n",
        "# If you want to allow non-local connections, you need to add more\r\n",
        "# \"host\" records.  In that case you will also need to make PostgreSQL\r\n",
        "# listen on a non-local interface via the listen_addresses\r\n",
        "# configuration parameter, or via the -i or -h command line switches.\r\n",
        "\r\n",
        "\r\n",
        "\r\n",
        "# TYPE  DATABASE        USER            ADDRESS                 METHOD\r\n",
        "\r\n",
        "# \"local\" is for Unix domain socket connections only\r\n",
        "local   all             all                                     trust\r\n",
        "# IPv4 local connections:\r\n",
        "host    all             all             127.0.0.1/32            trust\r\n",
        "# IPv6 local connections:\r\n",
        "host    all             all             ::1/128                 trust\r\n",
        "# Allow replication connections from localhost, by a user with the\r\n",
        "# replication privilege.\r\n",
        "#local   replication     postgres                                peer\r\n",
        "#host    replication     postgres        127.0.0.1/32            ident\r\n",
        "#host    replication     postgres        ::1/128                 ident\r\n"
       ]
      }
     ],
     "prompt_number": 2
    },
    {
     "cell_type": "markdown",
     "metadata": {},
     "source": [
      "For dCache we have to change the method in the three active lines to <tt>trust</tt>. Either do this manually or run"
     ]
    },
    {
     "cell_type": "code",
     "collapsed": false,
     "input": [
      "!sed -i 's/^local\\(.*\\)peer/local\\1trust/' /var/lib/pgsql/9.3/data/pg_hba.conf\n",
      "!sed -i 's/^host\\(.*\\)ident/local\\1trust/' /var/lib/pgsql/9.3/data/pg_hba.conf"
     ],
     "language": "python",
     "metadata": {},
     "outputs": []
    },
    {
     "cell_type": "markdown",
     "metadata": {},
     "source": [
      "to make the changes take effect restart postgresql"
     ]
    },
    {
     "cell_type": "code",
     "collapsed": false,
     "input": [
      "!service postgresql-9.3 restart"
     ],
     "language": "python",
     "metadata": {},
     "outputs": [
      {
       "output_type": "stream",
       "stream": "stdout",
       "text": [
        "Stopping postgresql-9.3 service: "
       ]
      },
      {
       "output_type": "stream",
       "stream": "stdout",
       "text": [
        "\u001b[60G[\u001b[0;32m  OK  \u001b[0;39m]\r",
        "\r\n",
        "Starting postgresql-9.3 service: "
       ]
      },
      {
       "output_type": "stream",
       "stream": "stdout",
       "text": [
        "\u001b[60G[\u001b[0;32m  OK  \u001b[0;39m]\r",
        "\r\n"
       ]
      }
     ],
     "prompt_number": 106
    },
    {
     "cell_type": "heading",
     "level": 3,
     "metadata": {},
     "source": [
      "Setting up dCache databases"
     ]
    },
    {
     "cell_type": "heading",
     "level": 4,
     "metadata": {},
     "source": [
      "Chimera"
     ]
    },
    {
     "cell_type": "markdown",
     "metadata": {},
     "source": [
      "The dCache namespace resides in a database called <tt>chimera</tt>. To create this database run"
     ]
    },
    {
     "cell_type": "code",
     "collapsed": false,
     "input": [
      "!createdb -U postgres chimera"
     ],
     "language": "python",
     "metadata": {},
     "outputs": []
    },
    {
     "cell_type": "markdown",
     "metadata": {},
     "source": [
      "Next we will create a user also called <tt>chimera</tt>. The following command creates the user without a password, which is fine, but if you want to set a password use the line after the next one from the command line "
     ]
    },
    {
     "cell_type": "code",
     "collapsed": false,
     "input": [
      "!createuser -U postgres --no-superuser --no-createrole --createdb chimera"
     ],
     "language": "python",
     "metadata": {},
     "outputs": []
    },
    {
     "cell_type": "markdown",
     "metadata": {},
     "source": [
      "To create the <tt>chimera</tt> user with a password run the following line in a terminal:"
     ]
    },
    {
     "cell_type": "markdown",
     "metadata": {},
     "source": [
      "<tt>sudo createuser -U postgres --no-superuser --no-createrole --createdb --pwprompt chimera</tt>"
     ]
    },
    {
     "cell_type": "heading",
     "level": 4,
     "metadata": {},
     "source": [
      "srmdcache"
     ]
    },
    {
     "cell_type": "markdown",
     "metadata": {},
     "source": [
      "The dCache components will access the database server with the user <tt>srmdcache</tt>. The next line will create the user without a password"
     ]
    },
    {
     "cell_type": "code",
     "collapsed": false,
     "input": [
      "!createuser -U postgres --no-superuser --no-createrole --createdb srmdcache"
     ],
     "language": "python",
     "metadata": {},
     "outputs": []
    },
    {
     "cell_type": "markdown",
     "metadata": {},
     "source": [
      "again, if you want a password run the following line in a terminal instead of the previous one:"
     ]
    },
    {
     "cell_type": "markdown",
     "metadata": {},
     "source": [
      "<tt>sudo createuser -U postgres --no-superuser --no-createrole --createdb --pwprompt srmdcache</tt>"
     ]
    },
    {
     "cell_type": "heading",
     "level": 4,
     "metadata": {},
     "source": [
      "billing"
     ]
    },
    {
     "cell_type": "markdown",
     "metadata": {},
     "source": [
      "Now we will create the database <tt>dcache</tt> used to store state information of serveral dCache components:"
     ]
    },
    {
     "cell_type": "code",
     "collapsed": false,
     "input": [
      "!createdb -U srmdcache dcache"
     ],
     "language": "python",
     "metadata": {},
     "outputs": []
    },
    {
     "cell_type": "markdown",
     "metadata": {},
     "source": [
      "And then the billing database:"
     ]
    },
    {
     "cell_type": "code",
     "collapsed": false,
     "input": [
      "!createdb -O srmmdcache -U postgres billing"
     ],
     "language": "python",
     "metadata": {},
     "outputs": []
    },
    {
     "cell_type": "markdown",
     "metadata": {},
     "source": [
      "Now all needed databases exist and we will have dCache create the tables as soon as it is installed in the next section."
     ]
    },
    {
     "cell_type": "heading",
     "level": 2,
     "metadata": {},
     "source": [
      "Install dCache"
     ]
    },
    {
     "cell_type": "markdown",
     "metadata": {},
     "source": [
      "Download dCache from the dCache website http://www.dcache.org:"
     ]
    },
    {
     "cell_type": "code",
     "collapsed": false,
     "input": [
      "!wget http://www.dcache.org/downloads/1.9/repo/2.6/dcache-2.6.12-1.noarch.rpm -O dcache-2.6.12-1.noarch.rpm"
     ],
     "language": "python",
     "metadata": {},
     "outputs": [
      {
       "output_type": "stream",
       "stream": "stdout",
       "text": [
        "--2013-11-07 11:30:41--  http://www.dcache.org/downloads/1.9/repo/2.6/dcache-2.6.12-1.noarch.rpm\r\n",
        "Resolving www.dcache.org... 131.169.4.221\r\n",
        "Connecting to www.dcache.org|131.169.4.221|:80... connected.\r\n",
        "HTTP request sent, awaiting response... 302 Found\r\n",
        "Location: http://dcache-desy21.desy.de:20292/pnfs/desy.de/desy/dcache.org/2.6/dcache-2.6.12-1.noarch.rpm?dcache-http-uuid=90b55327-f59c-42f0-8577-e9eb8e9c4a5d [following]\r\n",
        "--2013-11-07 11:30:41--  http://dcache-desy21.desy.de:20292/pnfs/desy.de/desy/dcache.org/2.6/dcache-2.6.12-1.noarch.rpm?dcache-http-uuid=90b55327-f59c-42f0-8577-e9eb8e9c4a5d\r\n",
        "Resolving dcache-desy21.desy.de... 131.169.191.202\r\n",
        "Connecting to dcache-desy21.desy.de|131.169.191.202|:20292... connected.\r\n",
        "HTTP request sent, awaiting response... 200 OK\r\n",
        "Length: 76223586 (73M)\r\n",
        "Saving to: \u201cdcache-2.6.12-1.noarch.rpm?dcache-http-uuid=90b55327-f59c-42f0-8577-e9eb8e9c4a5d\u201d\r\n",
        "\r\n",
        "\r",
        " 0% [                                       ] 0           --.-K/s              "
       ]
      },
      {
       "output_type": "stream",
       "stream": "stdout",
       "text": [
        "\r",
        "30% [===========>                           ] 23,527,560   112M/s              "
       ]
      },
      {
       "output_type": "stream",
       "stream": "stdout",
       "text": [
        "\r",
        "61% [=======================>               ] 47,070,592   112M/s              "
       ]
      },
      {
       "output_type": "stream",
       "stream": "stdout",
       "text": [
        "\r",
        "92% [===================================>   ] 70,607,832   112M/s              "
       ]
      },
      {
       "output_type": "stream",
       "stream": "stdout",
       "text": [
        "\r",
        "100%[======================================>] 76,223,586   112M/s   in 0.6s    \r\n",
        "\r\n",
        "2013-11-07 11:30:42 (112 MB/s) - \u201cdcache-2.6.12-1.noarch.rpm?dcache-http-uuid=90b55327-f59c-42f0-8577-e9eb8e9c4a5d\u201d saved [76223586/76223586]\r\n",
        "\r\n"
       ]
      }
     ],
     "prompt_number": 7
    },
    {
     "cell_type": "markdown",
     "metadata": {},
     "source": [
      "Then install dCache using <tt>yum</tt>:"
     ]
    },
    {
     "cell_type": "code",
     "collapsed": false,
     "input": [
      "!yum --assumeyes install dcache-2.6.12-1.noarch.rpm"
     ],
     "language": "python",
     "metadata": {},
     "outputs": [
      {
       "output_type": "stream",
       "stream": "stdout",
       "text": [
        "Loaded plugins: security\r\n"
       ]
      },
      {
       "output_type": "stream",
       "stream": "stdout",
       "text": [
        "Setting up Install Process\r\n",
        "Examining dcache-2.6.12-1.noarch.rpm: dcache-2.6.12-1.noarch\r\n",
        "Marking dcache-2.6.12-1.noarch.rpm as an update to dcache-2.6.10-1.noarch\r\n"
       ]
      },
      {
       "output_type": "stream",
       "stream": "stdout",
       "text": [
        "Resolving Dependencies\r\n",
        "--> Running transaction check\r\n",
        "---> Package dcache.noarch 0:2.6.10-1 will be updated\r\n",
        "---> Package dcache.noarch 0:2.6.12-1 will be an update\r\n"
       ]
      },
      {
       "output_type": "stream",
       "stream": "stdout",
       "text": [
        "--> Finished Dependency Resolution\r\n"
       ]
      },
      {
       "output_type": "stream",
       "stream": "stdout",
       "text": [
        "\r\n",
        "Dependencies Resolved\r\n",
        "\r\n",
        "================================================================================\r\n",
        " Package      Arch         Version          Repository                     Size\r\n",
        "================================================================================\r\n",
        "Updating:\r\n",
        " \u001b[1mdcache      \u001b[m noarch       2.6.12-1         /dcache-2.6.12-1.noarch        83 M\r\n",
        "\r\n",
        "Transaction Summary\r\n",
        "================================================================================\r\n",
        "Upgrade       1 Package(s)\r\n",
        "\r\n",
        "Total size: 83 M\r\n",
        "Is this ok [y/N]: "
       ]
      },
      {
       "ename": "TypeError",
       "evalue": "unorderable types: NoneType() > int()",
       "output_type": "pyerr",
       "traceback": [
        "\u001b[1;31m---------------------------------------------------------------------------\u001b[0m\n\u001b[1;31mTypeError\u001b[0m                                 Traceback (most recent call last)",
        "\u001b[1;32m<ipython-input-9-5262129437c9>\u001b[0m in \u001b[0;36m<module>\u001b[1;34m()\u001b[0m\n\u001b[1;32m----> 1\u001b[1;33m \u001b[0mget_ipython\u001b[0m\u001b[1;33m(\u001b[0m\u001b[1;33m)\u001b[0m\u001b[1;33m.\u001b[0m\u001b[0msystem\u001b[0m\u001b[1;33m(\u001b[0m\u001b[1;34m'yum install dcache-2.6.12-1.noarch.rpm'\u001b[0m\u001b[1;33m)\u001b[0m\u001b[1;33m\u001b[0m\u001b[0m\n\u001b[0m",
        "\u001b[1;32m/usr/lib/python3.3/site-packages/ipython-2.0.0_dev-py3.3.egg/IPython/core/interactiveshell.py\u001b[0m in \u001b[0;36msystem_piped\u001b[1;34m(self, cmd)\u001b[0m\n\u001b[0;32m   2233\u001b[0m         \u001b[1;31m# a non-None value would trigger :func:`sys.displayhook` calls.\u001b[0m\u001b[1;33m\u001b[0m\u001b[1;33m\u001b[0m\u001b[0m\n\u001b[0;32m   2234\u001b[0m         \u001b[1;31m# Instead, we store the exit_code in user_ns.\u001b[0m\u001b[1;33m\u001b[0m\u001b[1;33m\u001b[0m\u001b[0m\n\u001b[1;32m-> 2235\u001b[1;33m         \u001b[0mself\u001b[0m\u001b[1;33m.\u001b[0m\u001b[0muser_ns\u001b[0m\u001b[1;33m[\u001b[0m\u001b[1;34m'_exit_code'\u001b[0m\u001b[1;33m]\u001b[0m \u001b[1;33m=\u001b[0m \u001b[0msystem\u001b[0m\u001b[1;33m(\u001b[0m\u001b[0mself\u001b[0m\u001b[1;33m.\u001b[0m\u001b[0mvar_expand\u001b[0m\u001b[1;33m(\u001b[0m\u001b[0mcmd\u001b[0m\u001b[1;33m,\u001b[0m \u001b[0mdepth\u001b[0m\u001b[1;33m=\u001b[0m\u001b[1;36m1\u001b[0m\u001b[1;33m)\u001b[0m\u001b[1;33m)\u001b[0m\u001b[1;33m\u001b[0m\u001b[0m\n\u001b[0m\u001b[0;32m   2236\u001b[0m \u001b[1;33m\u001b[0m\u001b[0m\n\u001b[0;32m   2237\u001b[0m     \u001b[1;32mdef\u001b[0m \u001b[0msystem_raw\u001b[0m\u001b[1;33m(\u001b[0m\u001b[0mself\u001b[0m\u001b[1;33m,\u001b[0m \u001b[0mcmd\u001b[0m\u001b[1;33m)\u001b[0m\u001b[1;33m:\u001b[0m\u001b[1;33m\u001b[0m\u001b[0m\n",
        "\u001b[1;32m/usr/lib/python3.3/site-packages/ipython-2.0.0_dev-py3.3.egg/IPython/utils/_process_posix.py\u001b[0m in \u001b[0;36msystem\u001b[1;34m(self, cmd)\u001b[0m\n\u001b[0;32m    189\u001b[0m         \u001b[1;31m# as a positive number, or the terminating signal as a negative\u001b[0m\u001b[1;33m\u001b[0m\u001b[1;33m\u001b[0m\u001b[0m\n\u001b[0;32m    190\u001b[0m         \u001b[1;31m# number. sh returns 128+n for signals\u001b[0m\u001b[1;33m\u001b[0m\u001b[1;33m\u001b[0m\u001b[0m\n\u001b[1;32m--> 191\u001b[1;33m         \u001b[1;32mif\u001b[0m \u001b[0mchild\u001b[0m\u001b[1;33m.\u001b[0m\u001b[0mexitstatus\u001b[0m \u001b[1;33m>\u001b[0m \u001b[1;36m128\u001b[0m\u001b[1;33m:\u001b[0m\u001b[1;33m\u001b[0m\u001b[0m\n\u001b[0m\u001b[0;32m    192\u001b[0m             \u001b[1;32mreturn\u001b[0m \u001b[1;33m-\u001b[0m\u001b[1;33m(\u001b[0m\u001b[0mchild\u001b[0m\u001b[1;33m.\u001b[0m\u001b[0mexitstatus\u001b[0m \u001b[1;33m-\u001b[0m \u001b[1;36m128\u001b[0m\u001b[1;33m)\u001b[0m\u001b[1;33m\u001b[0m\u001b[0m\n\u001b[0;32m    193\u001b[0m         \u001b[1;32mreturn\u001b[0m \u001b[0mchild\u001b[0m\u001b[1;33m.\u001b[0m\u001b[0mexitstatus\u001b[0m\u001b[1;33m\u001b[0m\u001b[0m\n",
        "\u001b[1;31mTypeError\u001b[0m: unorderable types: NoneType() > int()"
       ]
      }
     ],
     "prompt_number": 9
    },
    {
     "cell_type": "heading",
     "level": 3,
     "metadata": {},
     "source": [
      "Create the database tables"
     ]
    },
    {
     "cell_type": "markdown",
     "metadata": {},
     "source": [
      "The first thing we do, is to create the required tables in the previously created databases using"
     ]
    },
    {
     "cell_type": "code",
     "collapsed": false,
     "input": [
      "!dcache database update"
     ],
     "language": "python",
     "metadata": {},
     "outputs": []
    },
    {
     "cell_type": "heading",
     "level": 3,
     "metadata": {},
     "source": [
      "Creating the layout file"
     ]
    },
    {
     "cell_type": "markdown",
     "metadata": {},
     "source": [
      "currently the following layout files exist:"
     ]
    },
    {
     "cell_type": "code",
     "collapsed": false,
     "input": [
      "!ls -l /etc/dcache/layouts/*.conf"
     ],
     "language": "python",
     "metadata": {},
     "outputs": [
      {
       "output_type": "stream",
       "stream": "stdout",
       "text": [
        "-rw-r--r-- 1 root root  680 Oct 31 09:39 /etc/dcache/layouts/ceph-mon1.conf\r\n",
        "-rw-r--r-- 1 root root 1341 Sep 24 10:04 /etc/dcache/layouts/head.conf\r\n",
        "-rw-r--r-- 1 root root  150 Sep 24 10:04 /etc/dcache/layouts/pool.conf\r\n",
        "-rw-r--r-- 1 root root  742 Sep 24 10:04 /etc/dcache/layouts/single.conf\r\n"
       ]
      }
     ],
     "prompt_number": 2
    },
    {
     "cell_type": "markdown",
     "metadata": {},
     "source": [
      "Now we will create a minimal file containing only the dCacheDomain"
     ]
    },
    {
     "cell_type": "code",
     "collapsed": false,
     "input": [
      "layout = \"\"\"\n",
      "pnfsmanager.db.connections.min-per-partition = 2\n",
      "pnfsmanager.db.connections.partition-count = 2\n",
      "pnfsmanager.db.connections.max-per-partition = 5\n",
      "\n",
      "nfs.domain=desy.afs\n",
      "nfs.idmap.legacy=true\n",
      "nfs.export.file=\\${dcache.paths.etc}/exports\n",
      "nfs.rpcsec_gss=true\n",
      "nfs.version=4.1,3\n",
      "nfs.version.portmap=false\n",
      "\n",
      "[dCacheDomain]\n",
      "[dCacheDomain/poolmanager]\n",
      "[dCacheDomain/broadcast]\n",
      "[dCacheDomain/loginbroker]\n",
      "[dCacheDomain/pnfsmanager]\n",
      "[dCacheDomain/cleaner] \n",
      "[dCacheDomain/topo]\n",
      "\"\"\""
     ],
     "language": "python",
     "metadata": {},
     "outputs": [],
     "prompt_number": 231
    },
    {
     "cell_type": "markdown",
     "metadata": {},
     "source": [
      "for authentication we need the gPlazma cell:"
     ]
    },
    {
     "cell_type": "code",
     "collapsed": false,
     "input": [
      "layout += \"\"\"\n",
      "[gplazmaDomain]\n",
      "[gplazmaDomain/gplazma]\n",
      "\"\"\""
     ],
     "language": "python",
     "metadata": {},
     "outputs": [],
     "prompt_number": 232
    },
    {
     "cell_type": "markdown",
     "metadata": {},
     "source": [
      "to be able to administrate the system we can add the ssh admin door using:"
     ]
    },
    {
     "cell_type": "code",
     "collapsed": false,
     "input": [
      "layout += \"\"\"\n",
      "[adminDoor]\n",
      "[adminDoor/admin]\n",
      "\"\"\""
     ],
     "language": "python",
     "metadata": {},
     "outputs": [],
     "prompt_number": 233
    },
    {
     "cell_type": "markdown",
     "metadata": {},
     "source": [
      "to be able to mount the namespace we can add the nfs door using:"
     ]
    },
    {
     "cell_type": "code",
     "collapsed": false,
     "input": [
      "layout += \"\"\"\n",
      "[nfsDoor]\n",
      "[nfsDoor/nfsv41]\n",
      "nfs.cell.name=nfsv41\n",
      "\"\"\""
     ],
     "language": "python",
     "metadata": {},
     "outputs": [],
     "prompt_number": 234
    },
    {
     "cell_type": "markdown",
     "metadata": {},
     "source": [
      "for webdav access add the following:"
     ]
    },
    {
     "cell_type": "code",
     "collapsed": false,
     "input": [
      "layout += \"\"\"\n",
      "[webdavDoor]\n",
      "[webdavDoor/webdav]\n",
      "webdav.net.port=8443\n",
      "webdav.authz.anonymous-operations=READONLY\n",
      "\"\"\""
     ],
     "language": "python",
     "metadata": {},
     "outputs": [],
     "prompt_number": 235
    },
    {
     "cell_type": "markdown",
     "metadata": {},
     "source": [
      "Run the following command to see how your file looks right now:"
     ]
    },
    {
     "cell_type": "code",
     "collapsed": false,
     "input": [
      "!echo -e \"{layout}\""
     ],
     "language": "python",
     "metadata": {},
     "outputs": [
      {
       "output_type": "stream",
       "stream": "stdout",
       "text": [
        "\r\n",
        "pnfsmanager.db.connections.min-per-partition = 2\r\n",
        "pnfsmanager.db.connections.partition-count = 2\r\n",
        "pnfsmanager.db.connections.max-per-partition = 5\r\n",
        "\r\n",
        "nfs.domain=desy.afs\r\n",
        "nfs.idmap.legacy=true\r\n",
        "nfs.export.file=${dcache.paths.etc}/exports\r\n",
        "nfs.rpcsec_gss=true\r\n",
        "nfs.version=4.1,3\r\n",
        "nfs.version.portmap=false\r\n",
        "\r\n",
        "[dCacheDomain]\r\n",
        "[dCacheDomain/poolmanager]\r\n",
        "[dCacheDomain/broadcast]\r\n",
        "[dCacheDomain/loginbroker]\r\n",
        "[dCacheDomain/pnfsmanager]\r\n",
        "[dCacheDomain/cleaner] \r\n",
        "[dCacheDomain/topo]\r\n",
        "\r\n",
        "[gplazmaDomain]\r\n",
        "[gplazmaDomain/gplazma]\r\n",
        "\r\n",
        "[adminDoor]\r\n",
        "[adminDoor/admin]\r\n",
        "\r\n",
        "[nfsDoor]\r\n",
        "[nfsDoor/nfs]\r\n",
        "nfs.cell.name=nfsv41\r\n",
        "\r\n",
        "[webdavDoor]\r\n",
        "[webdavDoor/webdav]\r\n",
        "webdav.net.port=8080\r\n",
        "webdav.authz.anonymous-operations=READONLY\r\n",
        "\r\n"
       ]
      }
     ],
     "prompt_number": 236
    },
    {
     "cell_type": "markdown",
     "metadata": {},
     "source": [
      "When you are happy with the configuration write it to the layout file:"
     ]
    },
    {
     "cell_type": "code",
     "collapsed": false,
     "input": [
      "!echo -e \"{layout}\" > /etc/dcache/layouts/$(hostname -s).conf"
     ],
     "language": "python",
     "metadata": {},
     "outputs": [],
     "prompt_number": 237
    },
    {
     "cell_type": "markdown",
     "metadata": {},
     "source": [
      "set dCache to use the new layout file by replacing the <tt>dcache.layout</tt> property in <tt>dcache.conf</tt>:"
     ]
    },
    {
     "cell_type": "code",
     "collapsed": false,
     "input": [
      "!sed -i '/^dcache.layout/d' /etc/dcache/dcache.conf\n",
      "!echo \"dcache.layout=$(hostname -s)\" >> /etc/dcache/dcache.conf"
     ],
     "language": "python",
     "metadata": {},
     "outputs": [],
     "prompt_number": 238
    },
    {
     "cell_type": "markdown",
     "metadata": {},
     "source": [
      "If you activated NFS, you should configure your exports file. Just edit the following to your needs and run:"
     ]
    },
    {
     "cell_type": "code",
     "collapsed": false,
     "input": [
      "exports = \"\"\"\n",
      "/data *.desy.de(rw) ceph*.desy.de(rw,no_root_squash)\n",
      "\"\"\"\n",
      "\n",
      "!echo \"{exports}\" > /etc/dcache/exports"
     ],
     "language": "python",
     "metadata": {},
     "outputs": [],
     "prompt_number": 1
    },
    {
     "cell_type": "markdown",
     "metadata": {},
     "source": [
      "to be able to use jgss, we also need the gss.conf file"
     ]
    },
    {
     "cell_type": "code",
     "collapsed": false,
     "input": [
      "gssconf = \"\"\"\n",
      "com.sun.security.jgss.accept {\n",
      "    com.sun.security.auth.module.Krb5LoginModule required\n",
      "    doNotPrompt=true\n",
      "    useKeyTab=true\n",
      "    keyTab=\"/etc/dcache/krb5.nfs.keytab\"\n",
      "    debug=false\n",
      "    storeKey=true\n",
      "    principal=\"nfs/$(hostname -f)@DESY.DE\";\n",
      "};\n",
      "\n",
      "Krb5Gplazma {\n",
      "    com.sun.security.auth.module.Krb5LoginModule required debug=false useTicketCache=false;\n",
      "};\n",
      "\"\"\"\n",
      "\n",
      "!echo \"{gssconf}\" > /etc/dcache/jgss.conf"
     ],
     "language": "python",
     "metadata": {},
     "outputs": [],
     "prompt_number": 5
    },
    {
     "cell_type": "markdown",
     "metadata": {},
     "source": [
      "For gPlazma we need the file gplazma.conf. Run the following to create it."
     ]
    },
    {
     "cell_type": "code",
     "collapsed": false,
     "input": [
      "gplazma = \"\"\"\n",
      "auth optional jaas gplazma.jaas.name=Krb5Gplazma\n",
      "map optional krb5\n",
      "map requisite nis\n",
      "identity requisite nis\n",
      "session requisite nis\n",
      "\"\"\"\n",
      "\n",
      "!echo \"{gplazma}\" > /etc/dcache/gplazma.conf"
     ],
     "language": "python",
     "metadata": {},
     "outputs": [],
     "prompt_number": 6
    },
    {
     "cell_type": "markdown",
     "metadata": {},
     "source": [
      "and restart dCache for the changes to take effect:"
     ]
    },
    {
     "cell_type": "code",
     "collapsed": false,
     "input": [
      "!dcache restart"
     ],
     "language": "python",
     "metadata": {},
     "outputs": []
    }
   ],
   "metadata": {}
  }
 ]
}