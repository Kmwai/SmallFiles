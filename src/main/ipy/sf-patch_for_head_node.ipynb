{
 "metadata": {
  "name": ""
 },
 "nbformat": 3,
 "nbformat_minor": 0,
 "worksheets": [
  {
   "cells": [
    {
     "cell_type": "markdown",
     "metadata": {},
     "source": [
      "First we will create the directory structure for the SmallFiles scripts for creating the archives.\n",
      "Set <tt>dataRoot</tt> to the directory to create the structure in!"
     ]
    },
    {
     "cell_type": "code",
     "collapsed": false,
     "input": [
      "%%bash\n",
      "dataRoot=/data\n",
      "chimera-cli mkdir ${dataRoot}\n",
      "chimera-cli mkdir ${dataRoot}/hsm\n",
      "chimera-cli mkdir ${dataRoot}/hsm/archives\n",
      "chimera-cli writetag ${dataRoot}/hsm/archives AccessLatency NEARLINE\n",
      "chimera-cli writetag ${dataRoot}/hsm/archives RetentionPolicy CUSTODIAL\n",
      "chimera-cli mkdir ${dataRoot}/hsm/requests\n",
      "chimera-cli writetag ${dataRoot}/hsm/requests AccessLatency ONLINE\n",
      "chimera-cli writetag ${dataRoot}/hsm/requests RetentionPolicy REPLICA"
     ],
     "language": "python",
     "metadata": {},
     "outputs": [
      {
       "output_type": "stream",
       "stream": "stderr",
       "text": [
        "Exception in thread \"main\" org.dcache.chimera.FileExistsChimeraFsException: path [data] already exist\n",
        "\tat org.dcache.chimera.JdbcFs.mkdir(JdbcFs.java:817)\n",
        "\tat org.dcache.chimera.JdbcFs.mkdir(JdbcFs.java:777)\n",
        "\tat org.dcache.chimera.JdbcFs.mkdir(JdbcFs.java:772)\n",
        "\tat org.dcache.chimera.cli.Mkdir.main(Mkdir.java:34)\n",
        "Exception in thread \"main\" org.dcache.chimera.FileExistsChimeraFsException: path [hsm] already exist\n",
        "\tat org.dcache.chimera.JdbcFs.mkdir(JdbcFs.java:817)\n",
        "\tat org.dcache.chimera.JdbcFs.mkdir(JdbcFs.java:777)\n",
        "\tat org.dcache.chimera.JdbcFs.mkdir(JdbcFs.java:772)\n",
        "\tat org.dcache.chimera.cli.Mkdir.main(Mkdir.java:34)\n",
        "Exception in thread \"main\" org.dcache.chimera.FileExistsChimeraFsException: path [archives] already exist\n",
        "\tat org.dcache.chimera.JdbcFs.mkdir(JdbcFs.java:817)\n",
        "\tat org.dcache.chimera.JdbcFs.mkdir(JdbcFs.java:777)\n",
        "\tat org.dcache.chimera.JdbcFs.mkdir(JdbcFs.java:772)\n",
        "\tat org.dcache.chimera.cli.Mkdir.main(Mkdir.java:34)\n",
        "Exception in thread \"main\" org.dcache.chimera.FileExistsChimeraFsException: path [requests] already exist\n",
        "\tat org.dcache.chimera.JdbcFs.mkdir(JdbcFs.java:817)\n",
        "\tat org.dcache.chimera.JdbcFs.mkdir(JdbcFs.java:777)\n",
        "\tat org.dcache.chimera.JdbcFs.mkdir(JdbcFs.java:772)\n",
        "\tat org.dcache.chimera.cli.Mkdir.main(Mkdir.java:34)\n"
       ]
      }
     ],
     "prompt_number": 2
    },
    {
     "cell_type": "markdown",
     "metadata": {},
     "source": [
      "Then we will create the directories that will hold the small files:"
     ]
    },
    {
     "cell_type": "code",
     "collapsed": false,
     "input": [
      "%%bash\n",
      "dataRoot=/data\n",
      "chimera-cli mkdir ${dataRoot}/smallfiles\n",
      "chimera-cli writetag ${dataRoot}/smallfiles sGroup \"smallfiles\"\n",
      "chimera-cli writetag ${dataRoot}/smallfiles OSMTemplate \"StoreName tar\"\n",
      "chimera-cli writetag ${dataRoot}/smallfiles hsmInstance \"dcache\"\n",
      "chimera-cli writetag ${dataRoot}/smallfiles AccessLatency NEARLINE\n",
      "chimera-cli writetag ${dataRoot}/smallfiles RetentionPolicy CUSTODIAL"
     ],
     "language": "python",
     "metadata": {},
     "outputs": [],
     "prompt_number": 3
    },
    {
     "cell_type": "code",
     "collapsed": false,
     "input": [],
     "language": "python",
     "metadata": {},
     "outputs": []
    }
   ],
   "metadata": {}
  }
 ]
}