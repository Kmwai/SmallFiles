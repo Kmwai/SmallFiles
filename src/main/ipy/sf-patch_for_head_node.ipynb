{
 "metadata": {
  "name": ""
 },
 "nbformat": 3,
 "nbformat_minor": 0,
 "worksheets": [
  {
   "cells": [
    {
     "cell_type": "markdown",
     "metadata": {},
     "source": [
      "First we will create the directory structure for the SmallFiles scripts to write the archives into. You can configure this freely. Just make sure that the files are NOT written into a subdirectory below the smallfiles directory. You can also create several locations to store archives."
     ]
    },
    {
     "cell_type": "markdown",
     "metadata": {},
     "source": [
      "Then we will assign the neccessary tags to the directories that will hold the small files. Again, you can have several distinct locations, but you will have to set the following tags for all of them."
     ]
    },
    {
     "cell_type": "code",
     "collapsed": false,
     "input": [
      "%%bash\n",
      "smallfilesRoot=/data/smallfiles\n",
      "chimera-cli writetag ${smallfilesRoot} sGroup \"smallfiles\"\n",
      "chimera-cli writetag ${smallfilesRoot} OSMTemplate \"StoreName archive\"\n",
      "chimera-cli writetag ${smallfilesRoot} hsmInstance \"dcache\"\n",
      "chimera-cli writetag ${smallfilesRoot} AccessLatency NEARLINE\n",
      "chimera-cli writetag ${smallfilesRoot} RetentionPolicy CUSTODIAL"
     ],
     "language": "python",
     "metadata": {},
     "outputs": []
    },
    {
     "cell_type": "markdown",
     "metadata": {},
     "source": [
      "Login to the admin interface and active p2p and staging in the PoolManager"
     ]
    },
    {
     "cell_type": "markdown",
     "metadata": {},
     "source": [
      "1. <code>cd PoolManager</code>\n",
      "1. <code>pm set -p2p-allowed=yes</code>\n",
      "1. <code>pm set -p2p-fortransfers=yes</code>\n",
      "1. <code>pm set -stage-allowed=yes</code>\n",
      "1. <code>save</code>"
     ]
    }
   ],
   "metadata": {}
  }
 ]
}